{
  "cells": [
    {
      "cell_type": "markdown",
      "source": [
        "Please insert in the below cell your username and password from physionet to download MIMIC III reports.\n",
        "\n",
        "Afterwards, you can \"run all\". \n",
        "After execution, the last cell of this notebook will download the data"
      ],
      "metadata": {
        "id": "3-b3AbL13tw2"
      },
      "id": "3-b3AbL13tw2"
    },
    {
      "cell_type": "code",
      "source": [
        "!wget -r -N -c -np --user username --password password https://physionet.org/files/mimiciii/1.4/NOTEEVENTS.csv.gz # NOTEEVENT.csv (reports)"
      ],
      "metadata": {
        "id": "c4Q6xaRZ3lgE"
      },
      "id": "c4Q6xaRZ3lgE",
      "execution_count": null,
      "outputs": []
    },
    {
      "cell_type": "markdown",
      "source": [
        "# Load data. \n"
      ],
      "metadata": {
        "id": "Jgycm6J6HK6A"
      },
      "id": "Jgycm6J6HK6A"
    },
    {
      "cell_type": "code",
      "source": [
        "!gunzip -c physionet.org/files/mimiciii/1.4/NOTEEVENTS.csv.gz > NOTEEVENTS.csv"
      ],
      "metadata": {
        "colab": {
          "base_uri": "https://localhost:8080/"
        },
        "id": "7gOGQatRpP99",
        "outputId": "bc225155-7519-405b-862e-36106db18858"
      },
      "id": "7gOGQatRpP99",
      "execution_count": 1,
      "outputs": [
        {
          "output_type": "stream",
          "name": "stdout",
          "text": [
            "--2022-07-01 22:20:57--  https://physionet.org/files/mimiciii/1.4/NOTEEVENTS.csv.gz\n",
            "Resolving physionet.org (physionet.org)... 18.18.42.54\n",
            "Connecting to physionet.org (physionet.org)|18.18.42.54|:443... connected.\n",
            "HTTP request sent, awaiting response... 401 Unauthorized\n",
            "Authentication selected: Basic realm=\"PhysioNet\", charset=\"UTF-8\"\n",
            "Reusing existing connection to physionet.org:443.\n",
            "HTTP request sent, awaiting response... 304 Not Modified\n",
            "File ‘physionet.org/files/mimiciii/1.4/NOTEEVENTS.csv.gz’ not modified on server. Omitting download.\n",
            "\n"
          ]
        }
      ]
    },
    {
      "cell_type": "code",
      "source": [
        "!pip install gdown\n",
        "!pip install rich"
      ],
      "metadata": {
        "colab": {
          "base_uri": "https://localhost:8080/"
        },
        "id": "wSasXcAAbOoY",
        "outputId": "f07b5bc6-600b-4521-e76d-f33353707b70"
      },
      "id": "wSasXcAAbOoY",
      "execution_count": 2,
      "outputs": [
        {
          "output_type": "stream",
          "name": "stdout",
          "text": [
            "Looking in indexes: https://pypi.org/simple, https://us-python.pkg.dev/colab-wheels/public/simple/\n",
            "Requirement already satisfied: gdown in /usr/local/lib/python3.7/dist-packages (4.4.0)\n",
            "Requirement already satisfied: filelock in /usr/local/lib/python3.7/dist-packages (from gdown) (3.7.1)\n",
            "Requirement already satisfied: tqdm in /usr/local/lib/python3.7/dist-packages (from gdown) (4.64.0)\n",
            "Requirement already satisfied: requests[socks] in /usr/local/lib/python3.7/dist-packages (from gdown) (2.23.0)\n",
            "Requirement already satisfied: beautifulsoup4 in /usr/local/lib/python3.7/dist-packages (from gdown) (4.6.3)\n",
            "Requirement already satisfied: six in /usr/local/lib/python3.7/dist-packages (from gdown) (1.15.0)\n",
            "Requirement already satisfied: chardet<4,>=3.0.2 in /usr/local/lib/python3.7/dist-packages (from requests[socks]->gdown) (3.0.4)\n",
            "Requirement already satisfied: idna<3,>=2.5 in /usr/local/lib/python3.7/dist-packages (from requests[socks]->gdown) (2.10)\n",
            "Requirement already satisfied: urllib3!=1.25.0,!=1.25.1,<1.26,>=1.21.1 in /usr/local/lib/python3.7/dist-packages (from requests[socks]->gdown) (1.24.3)\n",
            "Requirement already satisfied: certifi>=2017.4.17 in /usr/local/lib/python3.7/dist-packages (from requests[socks]->gdown) (2022.6.15)\n",
            "Requirement already satisfied: PySocks!=1.5.7,>=1.5.6 in /usr/local/lib/python3.7/dist-packages (from requests[socks]->gdown) (1.7.1)\n",
            "Looking in indexes: https://pypi.org/simple, https://us-python.pkg.dev/colab-wheels/public/simple/\n",
            "Requirement already satisfied: rich in /usr/local/lib/python3.7/dist-packages (12.4.4)\n",
            "Requirement already satisfied: commonmark<0.10.0,>=0.9.0 in /usr/local/lib/python3.7/dist-packages (from rich) (0.9.1)\n",
            "Requirement already satisfied: typing-extensions<5.0,>=4.0.0 in /usr/local/lib/python3.7/dist-packages (from rich) (4.1.1)\n",
            "Requirement already satisfied: pygments<3.0.0,>=2.6.0 in /usr/local/lib/python3.7/dist-packages (from rich) (2.6.1)\n"
          ]
        }
      ]
    },
    {
      "cell_type": "code",
      "execution_count": 3,
      "id": "light-membrane",
      "metadata": {
        "scrolled": true,
        "id": "light-membrane"
      },
      "outputs": [],
      "source": [
        "import pandas as pd\n",
        "from collections import Counter\n",
        "import re\n",
        "from tqdm import tqdm\n",
        "from rich import print"
      ]
    },
    {
      "cell_type": "code",
      "execution_count": 4,
      "id": "balanced-lobby",
      "metadata": {
        "colab": {
          "base_uri": "https://localhost:8080/"
        },
        "id": "balanced-lobby",
        "outputId": "72a9efcd-15b6-4ac0-fb28-481cec05c217"
      },
      "outputs": [
        {
          "output_type": "stream",
          "name": "stderr",
          "text": [
            "/usr/local/lib/python3.7/dist-packages/IPython/core/interactiveshell.py:2882: DtypeWarning: Columns (4,5) have mixed types.Specify dtype option on import or set low_memory=False.\n",
            "  exec(code_obj, self.user_global_ns, self.user_ns)\n"
          ]
        }
      ],
      "source": [
        "reports_csv = pd.read_csv(\"NOTEEVENTS.csv\")\n",
        "reports_csv = reports_csv.fillna(-1)"
      ]
    },
    {
      "cell_type": "code",
      "execution_count": 5,
      "id": "broadband-ribbon",
      "metadata": {
        "id": "broadband-ribbon"
      },
      "outputs": [],
      "source": [
        "reports_csv = reports_csv[reports_csv['CATEGORY']=='Radiology']"
      ]
    },
    {
      "cell_type": "markdown",
      "source": [
        "# Useful python functions"
      ],
      "metadata": {
        "id": "DG1SxC9NtQhW"
      },
      "id": "DG1SxC9NtQhW"
    },
    {
      "cell_type": "code",
      "execution_count": 6,
      "id": "curious-yugoslavia",
      "metadata": {
        "id": "curious-yugoslavia"
      },
      "outputs": [],
      "source": [
        "def get_final_report(text):\n",
        "    if('FINAL REPORT' not in text): return None\n",
        "    idx = text.index('FINAL REPORT')\n",
        "    text = text[idx:]\n",
        "    while '(Over)' in text and '(Cont)' in text:\n",
        "        text = text[0:text.index('(Over)')] + text[text.index('(Cont)')+6:]\n",
        "    return(text)"
      ]
    },
    {
      "cell_type": "code",
      "execution_count": 7,
      "id": "least-cooler",
      "metadata": {
        "id": "least-cooler"
      },
      "outputs": [],
      "source": [
        "def extract_sections(text):\n",
        "    p_section = re.compile(r'\\n ([A-Z ()/,-]+):\\s', re.DOTALL)\n",
        "\n",
        "    sections = list()\n",
        "    section_names = list()\n",
        "    section_idx = list()\n",
        "\n",
        "    idx = 0\n",
        "    s = p_section.search(text, idx)\n",
        "    if s:\n",
        "        sections.append(text[12:s.start(1)])\n",
        "        section_names.append(\"preamble\")\n",
        "        section_idx.append(0)\n",
        "\n",
        "        while s:\n",
        "            current_section = s.group(1).lower()\n",
        "            # get the start of the text for this section\n",
        "            idx_start = s.end()\n",
        "            # skip past the first newline to avoid some bad parses\n",
        "            idx_skip = text[idx_start:].find('\\n')\n",
        "            if idx_skip == -1:\n",
        "                idx_skip = 0\n",
        "\n",
        "            s = p_section.search(text, idx_start + idx_skip)\n",
        "            if s is None:\n",
        "                idx_end = len(text)\n",
        "            else:\n",
        "                idx_end = s.start()\n",
        "\n",
        "            sections.append(text[idx_start:idx_end])\n",
        "            section_names.append(current_section)\n",
        "            section_idx.append(idx_start)\n",
        "\n",
        "    else:\n",
        "        sections.append(text)\n",
        "        section_names.append('full report')\n",
        "        section_idx.append(0)\n",
        "    \n",
        "    \n",
        "    preprocessed = [sec.strip().lower() for sec in sections]\n",
        "    preprocessed = [re.sub(\"\\n\", \"\", sec) for sec in preprocessed]\n",
        "    preprocessed = [re.sub(' +', ' ', sec) for sec in preprocessed]\n",
        "    return (section_names, preprocessed)\n"
      ]
    },
    {
      "cell_type": "markdown",
      "source": [
        "# Radiologist mapping"
      ],
      "metadata": {
        "id": "mPlaTMLqtVZ5"
      },
      "id": "mPlaTMLqtVZ5"
    },
    {
      "cell_type": "code",
      "source": [
        "# which reports go into the given modality_anatomy pair\n",
        "\n",
        "mapping = {\n",
        "    \"CT_head\": [\n",
        "        \"CT HEAD W/O CONTRAST\",\n",
        "        \"CT EMERGENCY HEAD W/O CONTRAST\",\n",
        "        \"CT HEAD W/ CONTRAST\",\n",
        "        \"CT HEAD W/ & W/O CONTRAST\",\n",
        "        \"CTA HEAD W&W/O C & RECONS\",\n",
        "        \"CT HEAD W/ ANESTHESIA W/ CONTRAST\",\n",
        "        \"CT HEAD W/ ANESTHESIA W/O CONTRAST\",\n",
        "        \"PORTABLE HEAD CT W/O CONTRAST\",\n",
        "        \"CT BRAIN PERFUSION\",\n",
        "    ]\n",
        "    ,\n",
        "    \"CT_neck\": [\n",
        "        \"CT NECK W/CONTRAST (EG:PAROTIDS)\",\n",
        "        \"CT NECK W/O CONTRAST (EG: PAROTIDS)\",\n",
        "        \"CT NECK W/CONT +RECONSTRUCTION\",\n",
        "        \"CT NECK W/ & W/O CONTRAST\",\n",
        "        \"CTA NECK W&W/OC & RECONS\",\n",
        "        \"CT NECK W/CONTRAST W/ONC TABLES\",\n",
        "    ],\n",
        "    \"CT_sinus\": [\n",
        "        \"CT SINUS/MAXLIOFACIAL W/O CONTRAST\",\n",
        "        \"CT SINUS W/ CONTRAST\",\n",
        "        \"CT SINUS/MANDIBLE/MAXILLOFACIAL W/O CONTRAST\",\n",
        "        \"CT SINUS CORONAL ONLY\",\n",
        "        \"CT SINUS AXIAL W/VTI\",\n",
        "        \"CT SINUS W/ & W/O CONTRAST\",\n",
        "        \"CT SINUS W/O CONTRAST FOR SURGICAL PLANNING\",\n",
        "        \"CT SINUS/MANDIBLE/MAXILLOFACIAL W/ CONTRAST\",\n",
        "        \"CT SINUS/MANDIBLE/MAXILLOFACIAL W & W/O CONTRAST\",\n",
        "    ]\n",
        "    ,\n",
        "    \"CT_spine\":\n",
        "        [\n",
        "            \"CT C-SPINE W/O CONTRAST\",\n",
        "            \"CT C-SPINE W/CONTRAST\",\n",
        "            \"CT T-SPINE W/O CONTRAST\",\n",
        "            \"CT T-SPINE W/ CONTRAST\",\n",
        "            \"CT L-SPINE W/O CONTRAST\",\n",
        "            \"CT L-SPINE W/ CONTRAST\",\n",
        "        ],\n",
        "    \"CT_chest\": [\n",
        "        \"CT CHEST W/CONTRAST\",\n",
        "        \"CHEST CTA WITH CONTRAST\",\n",
        "        \"CT CHEST W/CONT+RECONSTRUCTION\",\n",
        "        \"CT CHEST W&W/O C\",\n",
        "        \"CTA CHEST W&W/O C &RECONS\",\n",
        "        \"CT STEREOTAXIS CHEST W/ CONTRAST\",\n",
        "        \"CTA CHEST W&W/O C&RECONS, NON-CORONARY\",\n",
        "        \"CT CHEST W/CONTRAST W/ONC TABLE\",\n",
        "        \"CT CHEST W/O CONTRAST W/ONC TABLES\",\n",
        "        \"P CTA CHEST W&W/O C&RECONS, NON-CORONARY PORT\",\n",
        "        \"CT CHEST AND ABDOMEN W/O CONTRAST\",\n",
        "    ],\n",
        "    \"CT_abdomen-pelvis\": [\n",
        "        \"CT ABDOMEN W/O CONTRAST\",\n",
        "        \"CT ABDOMEN W/CONTRAST\",\n",
        "        \"CT ABDOMEN W & W/O CONTRAST W/ONC TABLES\",\n",
        "        \"CT ABDOMEN W/CONTRAST W/ONC TABLE\",\n",
        "        \"CT ABDOMEN W/O CONTRAST W/ONC TABLE\",\n",
        "        \"CT ABDOMEN AND PELVIS W/O CONTRAST W/ONC TABLES\",\n",
        "        \"CT PELVIS W/CONTRAST\",\n",
        "        \"CT PELVIS W/O CONTRAST\",\n",
        "        \"CT PELVIS W&W/O C\",\n",
        "        \"CTA PELVIS W&W/O C & RECONS\",\n",
        "        \"CT ABD & PELVIS\",\n",
        "        \"CT ABD&PELVIS W/O C COLON TECHNIQUE\",\n",
        "        \"CT ABD&PELVIS W&W/O C COLON TECHNIQUE\",\n",
        "        \"CT ABD&PELVIS W/C COLON TECHNIQUE\",\n",
        "        \"CT PELVIS W/CONTRAST W/ONC TABLES\",\n",
        "        \"CT PELVIS W/O CONTRAST W/ONC TABLES\",\n",
        "        \"CT ABD & PELVIS WITH CONTRAST\",\n",
        "        \"CT ABD & PELVIS W/O CONTRAST\",\n",
        "        \"CT ABD & PELVIS W & W/O CONTRAST, ADDL SECTIONS\",\n",
        "        \"P CT ABD & PELVIS W & W/O CONTRAST, ADDL SECTIONS PORT\",\n",
        "        \"CTA ABD & PELVIS\",\n",
        "        \"CT ABDOMEN AND PELVIS W/O CONTRAST W/ONC TABLES\",\n",
        "    ],\n",
        "    \"MR_abdomen\": [\n",
        "        \"MR ABDOMEN W/ CONTRAST\",\n",
        "        \"MR ABDOMEN\",\n",
        "        \"MR ABDOMEN W&W/O CONTRAST\",\n",
        "        \"MR ABDOMEN W/O CONTRAST\",\n",
        "        \"MR ABDOMEN W/CONTRAST\",\n",
        "        \"MRI ABDOMEN W/O & W/CONTRAST\",\n",
        "        \"MRA ABDOMEN W&W/O CONTRAST\",\n",
        "        \"MRI ABDOMEN W/O CONTRAST\",\n",
        "        \"MRA ABDOMEN W/O CONTRAST\",\n",
        "        \"MRV ABDOMEN W/O CONTRAST\",\n",
        "        \"MRV ABDOMEN W&W/O CONTRAST\"\n",
        "    ],\n",
        "    \"MR_pelvis\": [\n",
        "        \"MR PELVIS W & W/O CONTRAST\",\n",
        "        \"MRA PELVIS\",\n",
        "        \"MRI PELVIS WITHOUT CONTRAST\",\n",
        "        \"MR PELVIS W/ CONTRAST\",\n",
        "        \"MR PELVIS W/O CONTRAST\",\n",
        "        \"MRI PELVIS W/O & W/CONTRAST\",\n",
        "        \"MRI PELVIS W/O CONTRAST\",\n",
        "        \"MRA PELVIS W&W/O CONTRAST\",\n",
        "        \"MRA PELVIS W/O CONTRAST\",\n",
        "        \"MRV PELVIS W&W/O CONTRAST\",\n",
        "        \"MRV PELVIS W/O CONTRAST\",\n",
        "        \"MR PELVIS W&W/O CONTRAST\",\n",
        "        \"MR GYN PELVIS  W & W/O CONTRAST\",\n",
        "        \"MRI PELVIS W/CONTRAST\",\n",
        "        \"MR GYN PELVIS W&W/O CONTRAST\",\n",
        "    ],\n",
        "    \"MR_spine\": [\n",
        "        \"MR L SPINE SCAN\",\n",
        "        \"MR L-SPINE W & W/O CONTRAST\",\n",
        "        \"MR L SPINE WITH CONTRAST\",\n",
        "        \"MR L SPINE W/O CONTRAST\",\n",
        "        \"MRA LUMBAR SPINE\",\n",
        "        \"MR CERVICAL SPINE\",\n",
        "        \"MR C-SPINE SCAN WITH CONTRAST\",\n",
        "        \"MR C-SPINE W& W/O CONTRAST\",\n",
        "        \"MR CERVICAL SPINE W/O CONTRAST\",\n",
        "        \"MRA CERVICAL SPINE\",\n",
        "    ],\n",
        "    \"MR_head\": [\n",
        "        \"MR HEAD W & W/O CONTRAST\",\n",
        "        \"MR HEAD NEURO\",\n",
        "        \"MR HEAD W/ CONTRAST\",\n",
        "        \"MR-ANGIO HEAD W/OUT CONTRAST\",\n",
        "        \"MR-ANGIO HEAD\",\n",
        "        \"MR HEAD W/O CONTRAST\",\n",
        "        \"MR-ANGIO HEAD W/ CONTRAST\",\n",
        "        \"MR-ANGIO HEAD W & W/O CONTRAST\",\n",
        "        \"MRV HEAD W/O CONTRAST\",\n",
        "        \"MR HEAD W/CNTRST&TUMOR VOLUMETRIC\",\n",
        "        \"MR HEAD W&W/OC FOR PTS W/ DBS\",\n",
        "    ],\n",
        "    \"MR_neck\": [\n",
        "        \"MR S.T. NECK W & W/O GADO\",\n",
        "        \"MR-ANGIO NECK WITHOUT CONTRAST\",\n",
        "        \"MR NECK W/O CONTRAST\",\n",
        "        \"MR-ANGIO NECK W & W/O CONTRAST\",\n",
        "        \"MRA NECK W&W/O CONTRAST\",\n",
        "        \"MRI SOFT TISSUE NECK, W/O & W/CONTRAST\",\n",
        "        \"MR ANGIOGRAM NECK, W/O & W/CONTRAST\",\n",
        "        \"MR ANGIOGRAM NECK, W/O CONTRAST\",\n",
        "        \"MRI SOFT TISUUE NECK, W/O CONTRAST\",\n",
        "        \"MRA NECK W/CONTRAST\",\n",
        "        \"MRA NECK W/O CONTRAST\",\n",
        "        \"MRV NECK W/O CONTRAST\",\n",
        "    ]\n",
        "}"
      ],
      "metadata": {
        "id": "bl45SR3Tp25O"
      },
      "id": "bl45SR3Tp25O",
      "execution_count": 8,
      "outputs": []
    },
    {
      "cell_type": "code",
      "execution_count": 9,
      "id": "artistic-reverse",
      "metadata": {
        "id": "artistic-reverse"
      },
      "outputs": [],
      "source": [
        "# Typos\n",
        "section_map = {\n",
        "    'findings': ['findigns', 'findigs', 'finding', 'findings', 'findnings', 'fidings', 'findings', \n",
        "                 'findings - brain mri', 'findings and impression', 'findings brain mri', \n",
        "                 'findings mri of the brain', 'findings, brain mri', 'findings-brain mri', \n",
        "                 'findings-mri of the head', 'findings', 'findings ct chest', 'findings for ct of the chest', \n",
        "                'findings head ct', 'findngs', 'findings ct head', 'findins', 'findnigs', 'finidngs', 'findings', \n",
        "                 'findgins', 'findgings'],\n",
        "    'impression': ['impession', 'impresiion', 'impresion', 'impression', 'impression and plan', \n",
        "                   'impressions', 'impresssion', 'imprssion',  'impression for mri of the brain', \n",
        "                   'impression of mri of the brain', 'impression of the mra', 'imrpession', 'impresison', \n",
        "                   'impressiion', 'impression', 'imression', 'imprression', 'impresson', 'impreesion', \n",
        "                   'imppression','impression'],\n",
        "    'technique': ['techinique', 'techinque', 'techique', 'techniqe', 'technique','technique and procedure',\n",
        "                  'technique contrast-enhanced', 'technique of study', 'techniques', 'technque', \n",
        "                 'techniqu', 'technique', 'technique for mra of the head', 'technnique', 'technqiue', \n",
        "                  'tecnique', 'tehnique', 'techniique', 'techniqur', 'technique head ct', 'tecnhique', \n",
        "                  'techniqie', 'techniquie', 'tecnhinque'],\n",
        "    'indication': [' indication', 'indicaation', 'indicaiton', 'indication', 'indication ', 'indication for exam',\n",
        "                   'indication for study', 'indication for the study', 'indication of study', 'indication of the study',\n",
        "                   'indication of the test', 'indications', 'indicdation', 'indcation', 'indicatioin', \n",
        "                   'indication', 'indication for the exam', 'indicaton', 'indication', 'indicatton', \n",
        "                   'indiciaton', 'indiction', 'indiation', 'indicatiion'],\n",
        "    'comparison': ['comaprison', 'comparions', 'comparision', 'comparisions', 'comparison', 'comparison ', \n",
        "                   'comparison available','comparison exam', 'comparison exams', 'comparison studies',\n",
        "                   'comparison study', 'comparisonm', 'comparisono', 'comparisons', 'comparisons available', \n",
        "                   'comparisson', 'comparsion', 'comparsions', 'complications', 'comprison', \n",
        "                   'comparison', 'comparison  study', 'comparison examination', 'comparison examinations', \n",
        "                   'comparison mr study', 'comparisosn', 'comparson', 'comparioson', 'comparpison', \n",
        "                   'comparsison', 'comprarison', 'comparisoin', 'comparisoni', 'comparion', 'comparison with', \n",
        "                   'comaparison'],\n",
        "    'bone windows': ['bond windows', 'bone  windows', 'bone dindows', 'bone window', 'bone windows', 'bone windowss',\n",
        "                     'bone winodws', 'bone winoows', 'bones windows', 'bony window', 'bony windows', 'bone eindows'],\n",
        "    'osseous structures': ['osseous structions', 'osseous structure', 'osseous structures', 'osseous structurs',\n",
        "                           'osseous strucures', 'osseus structures',  'osseous structures', 'osseous structures ',\n",
        "                          'ossseous structures'],\n",
        "    'clinical information': ['clincal information', 'clinical  information', 'clinical indication',\n",
        "                             'clinical information', 'clinincal information', 'clnical information', \n",
        "                             'cliical information', 'clinucal information'],\n",
        "    'exam': ['exam', 'examination'],\n",
        "    'non-contrast head ct': [\n",
        "        'non-contrast head ct',\n",
        "        'noncontrast head ct',\n",
        "        'non-contrast head ct scan',\n",
        "        'non-contrast ct head',\n",
        "        'noncontrast head ct scan',\n",
        "        'non-contrast ct of the head',\n",
        "        'noncontrast ct head',\n",
        "        'noncontrast ct of the head',\n",
        "        'non-contrast ct scan of the head',\n",
        "        'non contrast head ct',\n",
        "        'non-contrast head',\n",
        "        'non-contrast ct',\n",
        "        'noncontrast ct scan of the head',\n",
        "        'non contrast head ct scan',\n",
        "        'noncontrast  head ct',\n",
        "        'noncontrast ct scan',\n",
        "        'non-contrast ct of head',\n",
        "        'noncontrast ct',\n",
        "        'non-contrast  head ct',\n",
        "        'non-contrasted head ct scan',\n",
        "        'non-contrast head ct head',\n",
        "        'non-contrast head  ct',\n",
        "        'non-enhanced ct of the head',\n",
        "        'non-enhanced head ct',\n",
        "        'non-contrast head ct scan findings',\n",
        "        'non contrast ct of the head',\n",
        "        'non contrast ct findings',\n",
        "        'non-contrast-enhanced ct scan',\n",
        "        'noncontrast head',\n",
        "        'noncontrast enhanced ct',\n",
        "        'non-contrasted head ct',\n",
        "        'non-contrasat head ct',\n",
        "        'non-conrast head ct',\n",
        "        'non contrast ct head'\n",
        "    ],\n",
        "    'ct of the abdomen without iv contrast': [\n",
        "        'ct abdomen w/o iv contrast',\n",
        "        'ct abdomen with no iv contrast',\n",
        "        'abdomen ct w/o iv contrast',       \n",
        "        'abdomen ct without iv contrast',\n",
        "        'ct abdomen w/o iv contast',\n",
        "        'ct of the abdomen without iv constrast',\n",
        "        'ct of the abdomen without iv contrast',\n",
        "        'ct of the abdomen without iv contrast administration'\n",
        "        'ct abdomen without iv contrast',\n",
        "        'ct of the abdomen without iv contrast',\n",
        "        'ct of the abdomen with no iv contrast',\n",
        "        'ct of the abdomen with no iv contrast administration',\n",
        "        'abdomen without iv contrast',\n",
        "        'ct abdomen without iv contrast findings',\n",
        "        'ct abdomen, without iv contrast',\n",
        "    ],\n",
        "    'abdomen': ['abdomen ', 'adbomen', 'abodmen', 'ct abdmone', 'ct abdomen', 'ct abdomen '],\n",
        "    'indication': [' indication'],\n",
        "    'subcutaneous tissues': ['subcutaneous tissue'],\n",
        "    'comment': [' comment'],\n",
        "    'angiogram': ['angiogram)'],\n",
        "    'ct of the abdomen with iv contrast': [\n",
        "        'abdomen ct with iv contrast',\n",
        "        'abdomen with iv contrast',\n",
        "        'cc of the abdomen with iv contrast',\n",
        "        'ct abdomen with iv contrast',\n",
        "        'ct abdomen with iv contrast findings',\n",
        "        'ct abdomen with iv contrast only',\n",
        "        'ct of abdomen with iv contrast',\n",
        "        'ct of the  abdomen with iv contrast',\n",
        "        'ct of the abdomen and with iv contrast',\n",
        "        'ct of the abdomen with iv contrast',\n",
        "        'ct of the abdomen with iv contrast only',\n",
        "        'ct of the abdomen with iv contrast technique',\n",
        "        'ct of the abdomen with with iv contrast',\n",
        "        'ct of the abdoment with iv contrast',\n",
        "        'ct with iv contrast of the abdomen',\n",
        "        'cta abdomen with iv contrast',\n",
        "        'findings ct of the abdomen with iv contrast',\n",
        "        'findings for ct of the abdomen with iv contrast',\n",
        "        'abdomen ct w/ iv contrast',\n",
        "        'abdomen ct w/iv contrast',\n",
        "        'ct abdomen w/ iv contrast',\n",
        "        'ct abdomen w/iv contrast',\n",
        "        'ct of abdomen w/ iv contrast',\n",
        "        'ct of abdomen w/iv contrast',\n",
        "        'ct of the abdomen w/iv contrast',\n",
        "        'ct abdomen w/intravenous contrast',\n",
        "        'abdomen ct with intravenous contrast',\n",
        "        'ct abdomen with intravenous contrast',\n",
        "        'ct of abdomen with intravenous contrast',\n",
        "        'ct of the abdomen with intravenous contrast',\n",
        "        'ct of the abdomen with intravenous contrast only',\n",
        "        'ct of the abdomen with the administration of intravenous contrast',\n",
        "        'ct of the abdomen, with intravenous contrast',\n",
        "        'ct of the abdoment with intravenous contrast',\n",
        "        'ct of the the abdomen with intravenous contrast',\n",
        "        'ct scan abdomen with intravenous contrast',\n",
        "        'ct scan of abdomen (with intravenous contrast)',\n",
        "        'ct scan of abdomen with intravenous contrast',\n",
        "        'ct scan of the abdomen (with intravenous contrast)',\n",
        "        'ct scan of the abdomen with intravenous contrast',\n",
        "        'cta abdomen with intravenous contrast',\n",
        "        'abdominal ct with iv contrast',\n",
        "        'abdominal ct with intravenous contrast',\n",
        "        'abdominal ct with iv contrast findings',\n",
        "        'abdominal ct with iv contrast, findings',\n",
        "        'ct of the abdominal with iv contrast'\n",
        "    ],\n",
        "    'ct of the abdomen without contrast': [\n",
        "        'abdomen ct without contrast',\n",
        "        'abdomen without contrast',\n",
        "        'ct abdomen without contrast',\n",
        "        'ct abdomen without contrast ',\n",
        "        'ct abdomen, limited without contrast',\n",
        "        'ct abdomen, without contrast',\n",
        "        'ct of abdomen without contrast',\n",
        "        'ct of the abdomen without additional contrast',\n",
        "        'ct of the abdomen without and without contrast',\n",
        "        'ct of the abdomen without contrast',\n",
        "        'ct of the abdomen without contrast, findings',\n",
        "        'ct of the abdomen/pelvis without contrast',\n",
        "        'ct scan of the abdomen without contrast',\n",
        "        'findings for ct of the abdomen without contrast',\n",
        "        'findings, abdomen without contrast',\n",
        "        'preliminary ct of the abdomen without contrast'\n",
        "    ],\n",
        "    'ct of the chest without contrast': [\n",
        "        'chest ct without contrast',\n",
        "        'ct chest without contrast',\n",
        "        'ct of the chest without contrast',\n",
        "        'ct of the chest without contrast, findings',\n",
        "        'ct scan of the chest without contrast',\n",
        "        'findings for ct of the chest without contrast',\n",
        "        'ct chest w/o contrast', \n",
        "        'ct of the chest w/o contrast', \n",
        "        'limited ct chest w/o contrast'\n",
        "    ],\n",
        "    'ct of the chest without iv contrast': [\n",
        "        'chest ct w/o iv contrast', \n",
        "        'ct chest w/o iv contrast',\n",
        "        'chest ct without iv contrast',\n",
        "        'ct chest without iv contrast',\n",
        "        'ct of chest without iv contrast',\n",
        "        'ct of lower chest without iv contrast',\n",
        "        'ct of the chest without iv contrast',\n",
        "        'chest ct without intravenous contrast',\n",
        "        'chest without intravenous contrast',\n",
        "        'ct chest without intravenous contrast',\n",
        "        'ct of the chest without intravenous contrast'\n",
        "    ],\n",
        "    'ct of the chest with iv contrast': [\n",
        "        'chest ct with intravenous contrast',\n",
        "        'ct chest with intravenous contrast',\n",
        "        'ct of chest with intravenous contrast',\n",
        "        'ct of the chest with intravenous contrast',\n",
        "        'cta chest with intravenous contrast',\n",
        "        'cta of the chest with intravenous contrast'\n",
        "    ],\n",
        "    'ct of the pelvis without contrast': [\n",
        "        'ct of pelvis without contrast',\n",
        "        'ct of the pelvis without contrast',\n",
        "        'ct of the pelvis without contrast, findings',\n",
        "        'ct pelvis without contrast',\n",
        "        'ct pelvis without contrast findings',\n",
        "        'ct pelvis, without contrast',\n",
        "        'ct scan of the pelvis without contrast',\n",
        "        'ctof the pelvis without contrast',\n",
        "        'findings for pelvis without contrast',\n",
        "        'pelvis ct without contrast',\n",
        "        'pelvis without contrast',\n",
        "        'ct of pelvis w/o contrast',\n",
        "        'ct of the pelvis w/o contrast',\n",
        "        'ct pelvis w/o contrast',\n",
        "        'ct pelvis w/o contrast ',\n",
        "        'pelvis ct w/o contrast'\n",
        "    ],\n",
        "    'ct of the pelvis with iv contrast': [\n",
        "        'ct of pelvis with intravenous contrast',\n",
        "        'ct of te pelvis with intravenous contrast',\n",
        "        'ct of the of the pelvis with intravenous contrast',\n",
        "        'ct of the pelvis with intravenous contrast',\n",
        "        'ct of the pelvis with intravenous contrast only',\n",
        "        'ct pelvis with intravenous contrast',\n",
        "        'ct scan of pelvis with intravenous contrast',\n",
        "        'ct scan of the pelvis with intravenous contrast',\n",
        "        'ct scan pelvis with intravenous contrast',\n",
        "        'ct the pelvis with intravenous contrast',\n",
        "        'pelvis ct with intravenous contrast',\n",
        "        'pelvis with intravenous contrast',\n",
        "        'ct  pelvis with iv contrast',\n",
        "        'ct of pelvis with iv contrast',\n",
        "        'ct of pelvis with iv contrast only',\n",
        "        'ct of the pelvis with iv contrast',\n",
        "        'ct of the pelvis with iv contrast only',\n",
        "        'ct of the pelvis with only iv contrast',\n",
        "        'ct pelvis with iv contrast',\n",
        "        'ct pelvis with iv contrast findings',\n",
        "        'ct pelvis with iv contrast only',\n",
        "        'ct pelvis with no iv contrast',\n",
        "        'ct scan of pelvis with iv contrast',\n",
        "        'ct scan of the pelvis with iv contrast',\n",
        "        'ct the pelvis with iv contrast',\n",
        "        'cta pelvis with iv contrast',\n",
        "        'pelvis ct with iv contrast',\n",
        "        'pelvis with iv contrast'\n",
        "    ],\n",
        "\n",
        "}\n",
        "\n",
        "section_map_rev = {}\n",
        "for k in section_map:\n",
        "    for v in section_map[k]:\n",
        "        section_map_rev[v] = k"
      ]
    },
    {
      "cell_type": "code",
      "source": [
        "# Which sections are considered findings for the given modality_anatomy pair (with frequency)\n",
        "findings_mapping = {\n",
        "    \"CT_head\":\n",
        "        [\n",
        "            ('findings', 26640),\n",
        "            ('non-contrast head ct', 3325),\n",
        "            ('ct head', 731),\n",
        "            ('ct head without contrast', 695),\n",
        "            ('ct head without iv contrast', 630),\n",
        "            ('head ct', 619),\n",
        "            ('head ct without iv contrast', 516),\n",
        "            ('cta head', 416),\n",
        "            ('head ct without contrast', 375),\n",
        "            ('ct of the head without contrast', 292),\n",
        "            ('ct perfusion', 267),\n",
        "            ('ct head w/o contrast', 264),\n",
        "            ('head cta', 199),\n",
        "            ('cta', 191),\n",
        "            ('ct of the head without iv contrast', 151),\n",
        "            ('cta neck', 143),\n",
        "            ('head and neck cta', 141),\n",
        "            ('ct of the brain without intravenous contrast', 129),\n",
        "            ('cta of the head', 114),\n",
        "            ('ct angiography of the head', 98),\n",
        "            ('cta head and neck', 84),\n",
        "            ('ct angiogram of the head', 78),\n",
        "            ('ct of the head', 69),\n",
        "            ('ct angiography head', 69),\n",
        "            ('ct head findings', 64),\n",
        "            ('ct head w/o iv contrast', 63),\n",
        "            ('ct scan of the brain', 61),\n",
        "            ('head ct without intravenous contrast', 57),\n",
        "            ('ct head without intravenous contrast', 52),\n",
        "            ('ct angiogram', 50),\n",
        "            ('cta of the head and neck', 45),\n",
        "            ('head ct w/o contrast', 41),\n",
        "            ('ct of the brain without iv contrast', 39),\n",
        "            ('head ct w/o iv contrast', 38),\n",
        "            ('ct angiography', 36),\n",
        "            ('ct angiogram of the head and neck', 34),\n",
        "            ('ct scan of the head without contrast', 30),\n",
        "            ('ct of head without iv contrast', 30),\n",
        "            ('ct brain without contrast', 30),\n",
        "            ('ct head without and with contrast', 28),\n",
        "            ('ct of the head without intravenous contrast', 28),\n",
        "            ('ct of the head w/o contrast', 27),\n",
        "            ('ct', 27),\n",
        "            ('ct of the head without and with iv contrast', 25),\n",
        "            ('ct of the head without and with contrast', 25),\n",
        "            ('ct head with no iv contrast', 18),\n",
        "            ('ct brain w/o iv contrast', 18),\n",
        "            ('ct head without and with iv contrast', 18),\n",
        "            ('ct reconstructions', 16),\n",
        "            ('ct of the brain without and with intravenous contrast', 14),\n",
        "            ('ct scan of the head', 13),\n",
        "            ('ct of head without contrast', 12),\n",
        "            ('ct angiogram of the neck', 11),\n",
        "            ('ct head with iv contrast', 9),\n",
        "            ('ct head with no contrast', 9),\n",
        "            ('ct head with and without contrast', 8),\n",
        "            ('head ct with iv contrast', 8),\n",
        "            ('ct head with contrast', 8),\n",
        "            ('ct of the brain without contrast', 8),\n",
        "            ('cta of the brain', 8),\n",
        "            ('cta findings', 8),\n",
        "            ('ct of the head with contrast', 7),\n",
        "            ('ct of the head w/o iv contrast', 7),\n",
        "            ('ct head before and after iv contrast', 7),\n",
        "            ('contrast head ct', 7),\n",
        "            ('emergency head ct scan', 7),\n",
        "            ('ct of the head without and with intravenous contrast', 7),\n",
        "            ('ct brain', 7),\n",
        "            ('cta brain', 7),\n",
        "            ('ct of the head with and without iv contrast', 6),\n",
        "            ('ct head with and without iv contrast', 6),\n",
        "            ('ct brain without iv contrast', 6),\n",
        "            ('cta brain findings', 6),\n",
        "        ],\n",
        "    \"CT_neck\":\n",
        "        [\n",
        "            ('findings', 1068),\n",
        "            ('ct of the neck with iv contrast', 43),\n",
        "            ('cta neck', 32),\n",
        "            ('ct neck with iv contrast', 27),\n",
        "            ('cta of the neck', 23),\n",
        "            ('cta', 21),\n",
        "            ('ct neck', 19),\n",
        "            ('ct neck with contrast', 18),\n",
        "            ('ct of the neck with contrast', 13),\n",
        "            ('preliminary report', 13),\n",
        "            ('ct of the neck', 12),\n",
        "            ('neck cta', 11),\n",
        "            ('ct of the neck with intravenous contrast', 11),\n",
        "            ('ct angiography of the neck', 11),\n",
        "            ('neck ct with iv contrast', 9),\n",
        "            ('ct of the neck without iv contrast', 8),\n",
        "            ('ct angiography neck', 7),\n",
        "            ('ct of the neck without contrast', 5),\n",
        "            ('ct neck without contrast', 5),\n",
        "            ('ct neck without iv contrast', 5),\n",
        "            ('neck ct with contrast', 5),\n",
        "            ('ct of the neck without intravenous contrast', 5),\n",
        "            ('ct neck with intravenous contrast', 5),\n",
        "        ],\n",
        "    \"CT_sinus\":\n",
        "        [\n",
        "            ('findings', 1226),\n",
        "            ('sinus ct', 50),\n",
        "            ('ct sinus', 31),\n",
        "            ('ct sinuses', 15),\n",
        "            ('ct of the sinuses', 9),\n",
        "            ('ct of the paranasal sinuses', 6),\n",
        "            ('non-contrast sinus ct', 6),\n",
        "            ('ct sinus/maxillofacial', 5),\n",
        "            ('sinus ct without contrast', 4),\n",
        "            ('ct of the paranasal sinuses without iv contrast', 4),\n",
        "            ('ct sinus without contrast', 4),\n",
        "            ('ct sinuses without contrast', 3),\n",
        "            ('ct sinuses without iv contrast', 3),\n",
        "            ('ct of the sinuses without contrast', 3),\n",
        "            ('ct sinus/mandible/maxillofacial without contrast', 3),\n",
        "            ('ct sinus/maxliofacial', 2),\n",
        "            ('ct of the paranasal sinuses without contrast', 2),\n",
        "        ],\n",
        "    \"CT_spine\":\n",
        "        [\n",
        "\n",
        "            ('findings', 4725),\n",
        "            ('ct c-spine', 247),\n",
        "            ('ct of the cervical spine', 95),\n",
        "            ('ct cervical spine', 81),\n",
        "            ('ct reconstructions', 76),\n",
        "            ('ct of the cervical spine without contrast', 48),\n",
        "            ('cervical spine ct', 45),\n",
        "            ('ct c-spine without iv contrast', 42),\n",
        "            ('ct c-spine without contrast', 41),\n",
        "            ('ct of the cervical spine without intravenous contrast', 33),\n",
        "            ('c-spine ct without contrast', 32),\n",
        "            ('ct of the cervical spine without iv contrast', 26),\n",
        "            ('ct cervical spine w/o contrast', 26),\n",
        "            ('ct cervical spine without contrast', 24),\n",
        "            ('ct lumbar spine', 21),\n",
        "            ('ct cervical spine without iv contrast', 20),\n",
        "            ('ct t-spine', 18),\n",
        "            ('ct thoracic spine', 17),\n",
        "            ('non-contrast ct of the cervical spine with coronal and sagittal reformats', 17),\n",
        "            ('ct of the thoracic spine', 16),\n",
        "            ('thoracic spine', 16),\n",
        "            ('ct c spine', 15),\n",
        "            ('ct l-spine', 14),\n",
        "            ('cervical spine', 14),\n",
        "            ('lumbar spine', 13),\n",
        "            ('non-contrast cervical spine ct', 13),\n",
        "            ('prior study', 13),\n",
        "            ('cervical spine ct without intravenous contrast', 13),\n",
        "            ('ct cervical spine w/o iv contrast', 12),\n",
        "            ('non-contrast ct c-spine', 12),\n",
        "            ('noncontrast cervical spine ct', 11),\n",
        "            ('ct c-spine findings', 11),\n",
        "            ('ct c-spine without intravenous contrast', 10),\n",
        "            ('ct of the thoracic spine without intravenous contrast', 10),\n",
        "            ('ct of the lumbar spine', 9),\n",
        "            ('ct of the lumbar spine without contrast', 9),\n",
        "            ('ct of the c-spine', 9),\n",
        "            ('ct thoracic spine without contrast', 9),\n",
        "            ('non-contrast c-spine', 9),\n",
        "            ('non-contrast ct of the cervical spine', 9),\n",
        "            ('ct of the lumbar spine without iv contrast', 8),\n",
        "            ('c-spine ct', 7),\n",
        "            ('ct thoracic spine without iv contrast', 7),\n",
        "            ('ct of the lumbar spine without intravenous contrast', 7),\n",
        "            ('c spine ct without contrast', 6),\n",
        "            ('ct of the thoracic spine without contrast', 6),\n",
        "            ('cervical spine ct without contrast', 6),\n",
        "            ('ct cervical spine without intravenous contrast', 6),\n",
        "            ('ct lumbar spine without contrast', 5),\n",
        "            ('ct scan of the cervical spine', 5),\n",
        "            ('lumbar spine ct', 5),\n",
        "            ('c-spine', 5),\n",
        "            ('ct of the c-spine without iv contrast', 4),\n",
        "            ('ct of the thoracic and lumbar spine', 4),\n",
        "            ('ct c spine without iv contrast', 4),\n",
        "            ('ct of the thoracic spine without iv contrast', 4),\n",
        "            ('thoracic spine ct', 4),\n",
        "            ('cervical spine ct scan', 4),\n",
        "            ('ct l-spine without iv contrast', 4),\n",
        "            ('ct of c-spine without iv contrast', 3),\n",
        "            ('ct thoracic spine w/o contrast', 3),\n",
        "            ('ct lumbar spine w/o contrast', 3),\n",
        "            ('ct of c-spine', 3),\n",
        "            ('ct lumbar spine without iv contrast', 3),\n",
        "            ('ct of cervical spine without iv contrast', 3),\n",
        "            ('ct thoracic spine with iv contrast', 3),\n",
        "            ('ct of the cervical spine with sagittal and coronal reconstructions', 3),\n",
        "            ('ct c-spine w/o iv contrast', 3),\n",
        "            ('c-spine findings', 3),\n",
        "            ('non-contrast cervical spine', 3),\n",
        "            ('noncontrast ct c-spine', 3),\n",
        "            ('ct spine', 3),\n",
        "            ('ct lumbar spine without intravenous contrast', 3),\n",
        "            ('ct c spine without contrast', 2),\n",
        "            ('ct c-spine with reformations', 2),\n",
        "        ],\n",
        "    \"CT_chest\":\n",
        "        [\n",
        "            ('findings', 5478),\n",
        "            ('ct of the chest with iv contrast', 2401),\n",
        "            ('ct chest with iv contrast', 877),\n",
        "            ('ct chest', 846),\n",
        "            ('ct chest with contrast', 745),\n",
        "            ('chest', 709),\n",
        "            ('cta chest', 596),\n",
        "            ('ct of the chest', 497),\n",
        "            ('ct of the chest with contrast', 477),\n",
        "            ('cta of the chest', 360),\n",
        "            ('ct of the chest without and with iv contrast', 225),\n",
        "            ('ct of the chest with and without iv contrast', 220),\n",
        "            ('chest ct with iv contrast', 211),\n",
        "            ('ct of the chest with and without intravenous contrast', 158),\n",
        "            ('ct chest without and with iv contrast', 148),\n",
        "            ('ct chest with and without intravenous contrast', 120),\n",
        "            ('ct of the chest without and with intravenous contrast', 89),\n",
        "            ('ct of the chest without and with contrast', 84),\n",
        "            ('chest ct', 82),\n",
        "            ('chest cta', 76),\n",
        "            ('ct of chest with iv contrast', 75),\n",
        "            ('ct angiogram chest', 71),\n",
        "            ('chest with contrast', 55),\n",
        "            ('chest ct angiogram', 52),\n",
        "            ('cta chest with iv contrast', 49),\n",
        "            ('chest ct with contrast', 47),\n",
        "            ('ct chest before and after iv contrast', 44),\n",
        "            ('ct chest with and without contrast', 42),\n",
        "            ('ct of the chest with and without contrast', 40),\n",
        "            ('ct of the chest with contrast, findings', 40),\n",
        "            ('ct angiogram of the chest without and with intravenous contrast', 37),\n",
        "            ('ct chest w/contrast', 36),\n",
        "            ('ct angiogram of the chest', 35),\n",
        "            ('ct chest after iv contrast', 32),\n",
        "            ('ct of the chest without iv contrast', 31),\n",
        "            ('ct chest findings', 28),\n",
        "            ('ct angio chest', 28),\n",
        "            ('ct chest without and with intravenous contrast', 25),\n",
        "            ('ct of the chest w/iv contrast', 24),\n",
        "            ('chest findings', 24),\n",
        "            ('ct chest w/iv contrast', 23),\n",
        "            ('chest ct without and with iv contrast', 23),\n",
        "            ('ct angiography of the chest', 22),\n",
        "            ('ct chest with and without iv contrast', 21),\n",
        "            ('ct scan of the chest with contrast', 20),\n",
        "            ('contrast-enhanced ct of the chest', 20),\n",
        "            ('ct of the chest without contrast', 19),\n",
        "            ('ct chest without and with contrast', 17),\n",
        "            ('ct chest with contrast and reconstructions', 17),\n",
        "            ('chest cta with iv contrast', 16),\n",
        "            ('post-contrast chest ct', 16),\n",
        "            ('ct chest following iv contrast', 15),\n",
        "            ('ct of chest', 14),\n",
        "            ('cta chest without and with iv contrast', 13),\n",
        "            ('ct of chest with contrast', 11),\n",
        "            ('non-contrast chest ct', 11),\n",
        "            ('cta of the chest without and with iv contrast', 10),\n",
        "            ('cta of the chest with and without contrast', 9),\n",
        "            ('ct chest post-administration of intravenous contrast', 9),\n",
        "            ('cta of the chest with iv contrast', 8),\n",
        "            ('ct of chest with and without iv contrast', 8),\n",
        "            ('findings for ct of the chest with iv contrast', 8),\n",
        "            ('ct of the chest w/contrast', 7),\n",
        "            ('ct chest with oral and iv contrast', 7),\n",
        "            ('chest ct w/iv contrast', 7),\n",
        "            ('ct chest without/with contrast', 7),\n",
        "            ('cta chest with and without contrast', 7),\n",
        "            ('cta chest with contrast', 6),\n",
        "            ('findings for ct of the chest with and without iv contrast', 6),\n",
        "        ],\n",
        "    \"CT_abdomen-pelvis\":\n",
        "        [\n",
        "            ('findings', 5036),\n",
        "            ('ct of the pelvis with iv contrast', 4252),\n",
        "            ('ct of the abdomen with iv contrast', 3877),\n",
        "            ('abdomen', 2750),\n",
        "            ('ct pelvis', 1703),\n",
        "            ('pelvis', 1487),\n",
        "            ('ct of the abdomen without iv contrast', 1065),\n",
        "            ('ct of the pelvis', 969),\n",
        "            ('ct pelvis with contrast', 900),\n",
        "            ('ct abdomen with contrast', 889),\n",
        "            ('ct of the pelvis without contrast', 883),\n",
        "            ('ct of the pelvis without iv contrast', 871),\n",
        "            ('ct of the abdomen without contrast', 869),\n",
        "            ('ct of the abdomen', 785),\n",
        "            ('ct of the pelvis with contrast', 762),\n",
        "            ('ct of the abdomen with contrast', 645),\n",
        "            ('ct abdomen without iv contrast', 537),\n",
        "            ('ct pelvis without iv contrast', 477),\n",
        "            ('ct of the pelvis without intravenous contrast', 340),\n",
        "            ('ct of the abdomen without intravenous contrast', 310),\n",
        "            ('ct abdomen without intravenous contrast', 145),\n",
        "            ('ct pelvis without intravenous contrast', 132),\n",
        "            ('pelvis with contrast', 118),\n",
        "            ('ct pelvis w/o iv contrast', 108),\n",
        "            ('ct abdomen w/o contrast', 98),\n",
        "            ('ct of the pelvis with oral and iv contrast', 97),\n",
        "            ('abdomen with contrast', 96),\n",
        "            ('abdomen ct', 89),\n",
        "            ('ct of the abdomen with oral and iv contrast', 85),\n",
        "            ('ct of the pelvis with oral contrast only', 77),\n",
        "            ('ct abdomen w/contrast', 75),\n",
        "            ('pelvis ct', 74),\n",
        "            ('ct pelvis w/contrast', 72),\n",
        "            ('ct of the abdomen with oral contrast only', 70),\n",
        "            ('ct of the abdomen with and without iv contrast', 63),\n",
        "            ('ct pelvis after iv contrast', 61),\n",
        "            ('ct abdomen findings', 58),\n",
        "            ('ct of the abdomen with intravenous and oral contrast', 54),\n",
        "            ('ct abdomen after iv contrast', 50),\n",
        "            ('ct of the pelvis with intravenous and oral contrast', 50),\n",
        "            ('ct pelvis findings', 48),\n",
        "            ('ct of pelvis', 44),\n",
        "            ('ct of the abdomen without and with iv contrast', 43),\n",
        "            ('ct abdomen with oral, with intravenous contrast', 42),\n",
        "            ('ct pelvis with oral, with intravenous contrast', 40),\n",
        "            ('findings for ct of the pelvis', 40),\n",
        "            ('ct of abdomen without iv contrast', 39),\n",
        "            ('ct of the pelvis with iv and oral contrast', 39),\n",
        "            ('ct of the pelvis w/iv contrast', 36),\n",
        "            ('non-contrast ct abdomen', 36),\n",
        "            ('ct of pelvis without iv contrast', 34),\n",
        "            ('ct pelvis w/iv contrast', 32),\n",
        "            ('ct abdomen without and with iv contrast', 32),\n",
        "            ('ct abdomen with contrast and reconstructions', 32),\n",
        "            ('ct of the pelvis without intravenous or oral contrast', 31),\n",
        "            ('ct abdomen with and without contrast', 30),\n",
        "            ('ct pelvis with contrast and reconstructions', 30),\n",
        "            ('pelvis ct without iv contrast', 29),\n",
        "            ('ct of the abdomen with oral contrast', 29),\n",
        "            ('ct of the abdomen without intravenous or oral contrast', 29),\n",
        "            ('ct of the abdomen with and without contrast', 28),\n",
        "            ('ct of the abdomen without and with intravenous contrast', 28),\n",
        "            ('non-contrast ct pelvis', 27),\n",
        "            ('ct of the pelvis with and without iv contrast', 26),\n",
        "            ('ct of the pelvis with contrast, findings', 26),\n",
        "            ('ct of the abdomen without and with contrast', 25),\n",
        "            ('ct of the abdomen with contrast, findings', 25),\n",
        "            ('ct of the abdomen with iv and oral contrast', 25),\n",
        "            ('contrast-enhanced ct of the pelvis', 25),\n",
        "            ('ct of the pelvis w/o iv contrast', 24),\n",
        "            ('ct of the abdomen with and without intravenous contrast', 24),\n",
        "            ('contrast-enhanced ct of the abdomen', 24),\n",
        "            ('ct abdomen with iv and oral contrast', 23),\n",
        "            ('ct of abdomen', 23),\n",
        "            ('ct abdomen with oral, without intravenous contrast', 22),\n",
        "            ('ct pelvis with iv and oral contrast', 22),\n",
        "            ('ct of the abdomen w/o iv contrast', 21),\n",
        "            ('ct of the pelvis w/contrast', 21),\n",
        "            ('ct abdomen with oral contrast', 21),\n",
        "            ('non-contrast ct of the abdomen', 21),\n",
        "            ('ct of the abdomen with oral and intravenous contrast', 21),\n",
        "            ('ct scan of the pelvis with contrast', 20),\n",
        "            ('ct pelvis with oral contrast', 20),\n",
        "            ('ct scan of the abdomen with contrast', 19),\n",
        "            ('ct of the pelvis with oral contrast', 18),\n",
        "            ('ct scan of pelvis with oral and intravenous contrast', 18),\n",
        "            ('abdomen findings', 18),\n",
        "            ('ct pelvis with oral, without intravenous contrast', 17),\n",
        "            ('ct of pelvis findings', 17),\n",
        "            ('ct of the abdomen w/contrast', 16),\n",
        "            ('ct abdomen with and without intravenous contrast', 16),\n",
        "            ('ct of the abdomen without iv or oral contrast', 16),\n",
        "            ('ct of the pelvis without and with iv contrast', 15),\n",
        "            ('ct abdomen with oral contrast only', 15),\n",
        "            ('ct of the pelvis without and with intravenous contrast', 15),\n",
        "            ('cta of the abdomen', 15),\n",
        "            ('findings for ct of the abdomen without iv contrast', 15),\n",
        "            ('ct of pelvis with contrast', 14),\n",
        "            ('ct of abdomen with contrast', 14),\n",
        "            ('ct of the abdomen w/o contrast', 14),\n",
        "            ('ct pelvis with oral contrast only', 14),\n",
        "            ('ct of the pelvis without oral or iv contrast', 14),\n",
        "            ('ct of the pelvis with oral, with intravenous contrast', 13),\n",
        "            ('ct scan of abdomen with oral and intravenous contrast', 13),\n",
        "            ('pelvis findings', 13),\n",
        "            ('ct of the pelvis with and without contrast', 12),\n",
        "            ('ct abdomen without and with contrast', 12),\n",
        "            ('ct abdomen with oral and iv contrast', 12),\n",
        "            ('non-contrast ct of the pelvis', 12),\n",
        "            ('abdomen ct with contrast', 11),\n",
        "            ('post-contrast ct pelvis', 11),\n",
        "            ('abdomen with oral contrast', 11),\n",
        "            ('ct abdomen with and without iv contrast', 10),\n",
        "            ('abdomen ct w/o contrast', 10),\n",
        "            ('ct of the pelvis with oral and intravenous contrast', 10),\n",
        "            ('ct abdomen before and after iv contrast', 10),\n",
        "            ('ct of the pelvis with no iv contrast', 10),\n",
        "            ('post contrast ct pelvis', 10),\n",
        "            ('ct pelvis with and without intravenous contrast', 10),\n",
        "            ('ct abdomen without oral, without intravenous contrast', 10),\n",
        "            ('ct pelvis post-administration of intravenous contrast', 10),\n",
        "            ('ct pelvis with oral and iv contrast', 9),\n",
        "            ('ct pelvis without oral, without intravenous contrast', 9),\n",
        "            ('ct abdomen post-administration of intravenous contrast', 9),\n",
        "            ('ct abdomen without contrast and reconstructions', 9),\n",
        "            ('pelvis post contrast', 8),\n",
        "            ('ct pelvis with and without contrast', 8),\n",
        "            ('post-contrast ct abdomen', 8),\n",
        "            ('pelvis ct without intravenous contrast', 8),\n",
        "            ('ct abdomen without oral, with intravenous contrast', 8),\n",
        "            ('ct abdomen without iv or oral contrast', 7),\n",
        "            ('noncontrast ct pelvis', 7),\n",
        "            ('ct pelvis without and with iv contrast', 7),\n",
        "            ('post contrast ct abdomen', 7),\n",
        "            ('ct of the pelvis without iv or oral contrast', 7),\n",
        "            ('ct of the pelvis with and without intravenous contrast', 7),\n",
        "            ('findings for ct of the abdomen with contrast', 7),\n",
        "            ('cta of the pelvis', 7),\n",
        "            ('ct abdomen with and w/o contrast', 6),\n",
        "            ('ct of the pelvis without and with contrast', 6),\n",
        "            ('pelvis ct w/iv contrast', 6),\n",
        "            ('ct of the abdomen without oral or iv contrast', 6),\n",
        "            ('ct scan of pelvis', 6),\n",
        "            ('cta abdomen', 6),\n",
        "            ('ct of the pelvis with rectal contrast', 5),\n",
        "            ('abdomen post contrast', 5),\n",
        "            ('noncontrast ct abdomen', 5),\n",
        "            ('pelvis with oral contrast', 5),\n",
        "            ('abdomen ct with and without contrast', 5),\n",
        "            ('ct of the pelvis with oral, without intravenous contrast', 5),\n",
        "            ('ct pelvis without oral, with intravenous contrast', 5),\n",
        "            ('ct pelvis without iv or oral contrast', 5),\n",
        "            ('ct abdomen without and with intravenous contrast', 5),\n",
        "            ('ct abdomen post administration of intravenous contrast', 5),\n",
        "            ('ct pelvis post administration of intravenous contrast', 5),\n",
        "        ],\n",
        "    \"MR_abdomen\":\n",
        "        [\n",
        "            ('findings', 951),\n",
        "            ('mr abdomen without and with contrast', 29),\n",
        "            ('mr abdomen', 27),\n",
        "            ('mri abdomen', 22),\n",
        "            ('mri abdomen with contrast', 18),\n",
        "            ('mri of the abdomen', 12),\n",
        "            ('abdomen', 12),\n",
        "            ('mri of the abdomen without and with contrast', 12),\n",
        "            ('mri of the abdomen with and without intravenous contrast', 10),\n",
        "            ('mr of the abdomen with iv gadolinium', 10),\n",
        "            ('mr abdomen with and without contrast/mrcp', 8),\n",
        "            ('mra abdomen', 8),\n",
        "            ('mr abdomen with contrast', 7),\n",
        "            ('mr abdomen with and without contrast', 7),\n",
        "            ('mr of the abdomen', 7),\n",
        "            ('mri of the abdomen with contrast', 6),\n",
        "            ('mri abdomen without contrast', 5),\n",
        "        ],\n",
        "    \"MR_pelvis\":\n",
        "        [\n",
        "            ('findings', 252),\n",
        "            ('mr pelvis', 12),\n",
        "            ('mri pelvis', 7),\n",
        "            ('mri pelvis with contrast', 4),\n",
        "        ],\n",
        "    \"MR_spine\":\n",
        "        [\n",
        "            ('findings', 3384),\n",
        "            ('thoracic spine', 199),\n",
        "            ('cervical spine', 170),\n",
        "            ('lumbar spine', 161),\n",
        "            ('mri of the cervical spine', 91),\n",
        "            ('mri of the lumbar spine', 80),\n",
        "            ('mri of the thoracic spine', 58),\n",
        "            ('mr cervical spine', 44),\n",
        "            ('mr thoracic spine', 40),\n",
        "            ('mr lumbar spine', 36),\n",
        "            ('thoracic spine mri', 36),\n",
        "            ('cervical spine mri', 35),\n",
        "            ('lumbar spine mri', 32),\n",
        "            ('mr of the cervical spine', 25),\n",
        "            ('mri cervical spine', 19),\n",
        "            ('mr of the thoracic spine', 19),\n",
        "            ('mri lumbar spine', 14),\n",
        "            ('mr of the lumbar spine', 14),\n",
        "            ('mri thoracic spine', 14),\n",
        "            ('mri of the cervical spine without contrast', 12),\n",
        "            ('cervical', 10),\n",
        "            ('c-spine', 8),\n",
        "            ('mri of the lumbar spine without and with contrast', 7),\n",
        "            ('mri of the lumbar spine with gadolinium', 6),\n",
        "            ('t-spine', 5),\n",
        "            ('l-spine', 5),\n",
        "            ('mri of the cervical spine without and with contrast', 5),\n",
        "            ('mri of the thoracic spine without gadolinium', 5),\n",
        "            ('mri of the lumbar spine', 5),\n",
        "            ('mri of the cervical spine', 4),\n",
        "            ('c-spine mri without contrast', 4),\n",
        "            ('mri of the lumbar spine without contrast', 4),\n",
        "            ('mr c and t-spine', 3),\n",
        "            ('mr cervical spine without contrast', 3),\n",
        "            ('cervical mri', 3),\n",
        "            ('mr lumbar spine without contrast', 3),\n",
        "            ('mri of the lumbar spine without gadolinium', 3),\n",
        "            ('cervical spine mri without intravenous contrast', 3),\n",
        "            ('mr c spine', 2),\n",
        "            ('lumbosacral spine', 2),\n",
        "            ('mri of the thoracic and lumbar spine', 2),\n",
        "            ('mri of the cervical spine with contrast', 2),\n",
        "            ('mri of the cervical spine with and without contrast', 2),\n",
        "            ('mr of the lumbar spine with and without contrast', 2),\n",
        "            ('mri of the cervical spine with gadolinium', 2),\n",
        "            ('c-spine mr', 2),\n",
        "            ('mri of the lumbar spine without and with gadolinium', 2),\n",
        "            ('mri of the thoracic spine without gadolinium', 2),\n",
        "            ('mri l-spine without contrast', 2),\n",
        "            ('mr cervical spine with and without iv contrast', 2),\n",
        "            ('cervical spine findings', 2),\n",
        "            ('lumbar spine findings', 2),\n",
        "            ('mr cervical spine without iv contrast', 2),\n",
        "            ('mr thoracic spine with and without iv contrast', 2),\n",
        "            ('mri l-spine with and without iv contrast', 2),\n",
        "        ],\n",
        "    \"MR_head\":\n",
        "        [\n",
        "            ('findings', 9435),\n",
        "            ('mra of the head', 479),\n",
        "            ('mra head', 256),\n",
        "            ('mri head', 85),\n",
        "            ('head mri', 82),\n",
        "            ('head mra', 70),\n",
        "            ('mri of the head', 38),\n",
        "            ('mrv of the head', 38),\n",
        "            ('mr head', 34),\n",
        "            ('mr head w/o contrast', 24),\n",
        "            ('mrv head', 20),\n",
        "            ('mr angiogram of the head', 18),\n",
        "            ('mri of the brain and mra of the head', 13),\n",
        "            ('mr head without contrast', 10),\n",
        "            ('mr of the head', 10),\n",
        "            ('mr head without and with contrast', 9),\n",
        "            ('mri of the head without contrast', 9),\n",
        "            ('head mrv', 9),\n",
        "            ('mr head without and with iv contrast', 9),\n",
        "            ('mr head with and without contrast', 6),\n",
        "            ('mra of head', 6),\n",
        "            ('mr of the head without contrast', 5),\n",
        "            ('mri head with contrast', 5),\n",
        "        ],\n",
        "    \"MR_neck\":\n",
        "        [\n",
        "            ('findings', 275),\n",
        "            ('mra of the neck', 20),\n",
        "            ('mra neck', 12),\n",
        "            ('mr angiography of the neck arterial vasculature', 3),\n",
        "            ('mri of the neck with gadolinium', 3),\n",
        "            ('mri of the neck', 2),\n",
        "            ('mra neck with and without contrast', 2),\n",
        "            ('mr angiogram of the neck', 2),\n",
        "            ('mri/mra of the neck', 1),\n",
        "            ('mra neck findings', 1),\n",
        "            ('mr of the neck', 1),\n",
        "            ('mr neck without and with contrast', 1),\n",
        "            ('mri and mra of the neck and aortic arch', 1),\n",
        "            ('mr of neck', 1),\n",
        "            ('mr of the neck without and with contrast', 1),\n",
        "            ('mri scan of the neck with gadolinium enhancement', 1),\n",
        "            ('mra of the neck w/gadolinium', 1),\n",
        "            ('mri scan of the soft tissues of the neck', 1),\n",
        "            ('mri of neck and skull base', 1),\n",
        "            ('mri of the neck without and with gadolinium', 1),\n",
        "            ('mr neck', 1),\n",
        "            ('mr angiogram of the vessels of the neck', 1),\n",
        "            ('mr neck without gadolinium', 1),\n",
        "            ('neck mra', 1),\n",
        "            ('mri neck, before and after iv contrast', 1),\n",
        "            ('mr neck with iv contrast', 1)\n",
        "        ]\n",
        "}\n"
      ],
      "metadata": {
        "id": "94tMfB0ex0MO"
      },
      "id": "94tMfB0ex0MO",
      "execution_count": 10,
      "outputs": []
    },
    {
      "cell_type": "markdown",
      "source": [
        "# Creating the datasets\n"
      ],
      "metadata": {
        "id": "GZ-poJm-HSW6"
      },
      "id": "GZ-poJm-HSW6"
    },
    {
      "cell_type": "code",
      "execution_count": 11,
      "id": "prescription-marketplace",
      "metadata": {
        "id": "prescription-marketplace",
        "colab": {
          "base_uri": "https://localhost:8080/",
          "height": 0
        },
        "outputId": "72717228-ef73-4583-9d11-79e665a7b422"
      },
      "outputs": [
        {
          "output_type": "display_data",
          "data": {
            "text/plain": [
              "CT_head Num of reports given the radiologist mapping :\u001b[1;36m38807\u001b[0m\n"
            ],
            "text/html": [
              "<pre style=\"white-space:pre;overflow-x:auto;line-height:normal;font-family:Menlo,'DejaVu Sans Mono',consolas,'Courier New',monospace\">CT_head Num of reports given the radiologist mapping :<span style=\"color: #008080; text-decoration-color: #008080; font-weight: bold\">38807</span>\n",
              "</pre>\n"
            ]
          },
          "metadata": {}
        },
        {
          "output_type": "display_data",
          "data": {
            "text/plain": [
              "Extracting sections\u001b[33m...\u001b[0m\n"
            ],
            "text/html": [
              "<pre style=\"white-space:pre;overflow-x:auto;line-height:normal;font-family:Menlo,'DejaVu Sans Mono',consolas,'Courier New',monospace\">Extracting sections<span style=\"color: #808000; text-decoration-color: #808000\">...</span>\n",
              "</pre>\n"
            ]
          },
          "metadata": {}
        },
        {
          "output_type": "stream",
          "name": "stderr",
          "text": [
            "100%|██████████| 38807/38807 [00:21<00:00, 1814.15it/s]\n"
          ]
        },
        {
          "output_type": "display_data",
          "data": {
            "text/plain": [
              "Num of suitable reports: \u001b[1;36m31403\u001b[0m\n"
            ],
            "text/html": [
              "<pre style=\"white-space:pre;overflow-x:auto;line-height:normal;font-family:Menlo,'DejaVu Sans Mono',consolas,'Courier New',monospace\">Num of suitable reports: <span style=\"color: #008080; text-decoration-color: #008080; font-weight: bold\">31403</span>\n",
              "</pre>\n"
            ]
          },
          "metadata": {}
        },
        {
          "output_type": "display_data",
          "data": {
            "text/plain": [
              "CT_neck Num of reports given the radiologist mapping :\u001b[1;36m1599\u001b[0m\n"
            ],
            "text/html": [
              "<pre style=\"white-space:pre;overflow-x:auto;line-height:normal;font-family:Menlo,'DejaVu Sans Mono',consolas,'Courier New',monospace\">CT_neck Num of reports given the radiologist mapping :<span style=\"color: #008080; text-decoration-color: #008080; font-weight: bold\">1599</span>\n",
              "</pre>\n"
            ]
          },
          "metadata": {}
        },
        {
          "output_type": "display_data",
          "data": {
            "text/plain": [
              "Extracting sections\u001b[33m...\u001b[0m\n"
            ],
            "text/html": [
              "<pre style=\"white-space:pre;overflow-x:auto;line-height:normal;font-family:Menlo,'DejaVu Sans Mono',consolas,'Courier New',monospace\">Extracting sections<span style=\"color: #808000; text-decoration-color: #808000\">...</span>\n",
              "</pre>\n"
            ]
          },
          "metadata": {}
        },
        {
          "output_type": "stream",
          "name": "stderr",
          "text": [
            "100%|██████████| 1599/1599 [00:00<00:00, 4184.65it/s]\n"
          ]
        },
        {
          "output_type": "display_data",
          "data": {
            "text/plain": [
              "Num of suitable reports: \u001b[1;36m1141\u001b[0m\n"
            ],
            "text/html": [
              "<pre style=\"white-space:pre;overflow-x:auto;line-height:normal;font-family:Menlo,'DejaVu Sans Mono',consolas,'Courier New',monospace\">Num of suitable reports: <span style=\"color: #008080; text-decoration-color: #008080; font-weight: bold\">1141</span>\n",
              "</pre>\n"
            ]
          },
          "metadata": {}
        },
        {
          "output_type": "display_data",
          "data": {
            "text/plain": [
              "CT_sinus Num of reports given the radiologist mapping :\u001b[1;36m1747\u001b[0m\n"
            ],
            "text/html": [
              "<pre style=\"white-space:pre;overflow-x:auto;line-height:normal;font-family:Menlo,'DejaVu Sans Mono',consolas,'Courier New',monospace\">CT_sinus Num of reports given the radiologist mapping :<span style=\"color: #008080; text-decoration-color: #008080; font-weight: bold\">1747</span>\n",
              "</pre>\n"
            ]
          },
          "metadata": {}
        },
        {
          "output_type": "display_data",
          "data": {
            "text/plain": [
              "Extracting sections\u001b[33m...\u001b[0m\n"
            ],
            "text/html": [
              "<pre style=\"white-space:pre;overflow-x:auto;line-height:normal;font-family:Menlo,'DejaVu Sans Mono',consolas,'Courier New',monospace\">Extracting sections<span style=\"color: #808000; text-decoration-color: #808000\">...</span>\n",
              "</pre>\n"
            ]
          },
          "metadata": {}
        },
        {
          "output_type": "stream",
          "name": "stderr",
          "text": [
            "100%|██████████| 1747/1747 [00:00<00:00, 5571.23it/s]\n"
          ]
        },
        {
          "output_type": "display_data",
          "data": {
            "text/plain": [
              "Num of suitable reports: \u001b[1;36m1268\u001b[0m\n"
            ],
            "text/html": [
              "<pre style=\"white-space:pre;overflow-x:auto;line-height:normal;font-family:Menlo,'DejaVu Sans Mono',consolas,'Courier New',monospace\">Num of suitable reports: <span style=\"color: #008080; text-decoration-color: #008080; font-weight: bold\">1268</span>\n",
              "</pre>\n"
            ]
          },
          "metadata": {}
        },
        {
          "output_type": "display_data",
          "data": {
            "text/plain": [
              "CT_spine Num of reports given the radiologist mapping :\u001b[1;36m6447\u001b[0m\n"
            ],
            "text/html": [
              "<pre style=\"white-space:pre;overflow-x:auto;line-height:normal;font-family:Menlo,'DejaVu Sans Mono',consolas,'Courier New',monospace\">CT_spine Num of reports given the radiologist mapping :<span style=\"color: #008080; text-decoration-color: #008080; font-weight: bold\">6447</span>\n",
              "</pre>\n"
            ]
          },
          "metadata": {}
        },
        {
          "output_type": "display_data",
          "data": {
            "text/plain": [
              "Extracting sections\u001b[33m...\u001b[0m\n"
            ],
            "text/html": [
              "<pre style=\"white-space:pre;overflow-x:auto;line-height:normal;font-family:Menlo,'DejaVu Sans Mono',consolas,'Courier New',monospace\">Extracting sections<span style=\"color: #808000; text-decoration-color: #808000\">...</span>\n",
              "</pre>\n"
            ]
          },
          "metadata": {}
        },
        {
          "output_type": "stream",
          "name": "stderr",
          "text": [
            "100%|██████████| 6447/6447 [00:01<00:00, 4946.55it/s]\n"
          ]
        },
        {
          "output_type": "display_data",
          "data": {
            "text/plain": [
              "Num of suitable reports: \u001b[1;36m5518\u001b[0m\n"
            ],
            "text/html": [
              "<pre style=\"white-space:pre;overflow-x:auto;line-height:normal;font-family:Menlo,'DejaVu Sans Mono',consolas,'Courier New',monospace\">Num of suitable reports: <span style=\"color: #008080; text-decoration-color: #008080; font-weight: bold\">5518</span>\n",
              "</pre>\n"
            ]
          },
          "metadata": {}
        },
        {
          "output_type": "display_data",
          "data": {
            "text/plain": [
              "CT_chest Num of reports given the radiologist mapping :\u001b[1;36m15248\u001b[0m\n"
            ],
            "text/html": [
              "<pre style=\"white-space:pre;overflow-x:auto;line-height:normal;font-family:Menlo,'DejaVu Sans Mono',consolas,'Courier New',monospace\">CT_chest Num of reports given the radiologist mapping :<span style=\"color: #008080; text-decoration-color: #008080; font-weight: bold\">15248</span>\n",
              "</pre>\n"
            ]
          },
          "metadata": {}
        },
        {
          "output_type": "display_data",
          "data": {
            "text/plain": [
              "Extracting sections\u001b[33m...\u001b[0m\n"
            ],
            "text/html": [
              "<pre style=\"white-space:pre;overflow-x:auto;line-height:normal;font-family:Menlo,'DejaVu Sans Mono',consolas,'Courier New',monospace\">Extracting sections<span style=\"color: #808000; text-decoration-color: #808000\">...</span>\n",
              "</pre>\n"
            ]
          },
          "metadata": {}
        },
        {
          "output_type": "stream",
          "name": "stderr",
          "text": [
            "100%|██████████| 15248/15248 [00:12<00:00, 1226.56it/s]\n"
          ]
        },
        {
          "output_type": "display_data",
          "data": {
            "text/plain": [
              "Num of suitable reports: \u001b[1;36m12787\u001b[0m\n"
            ],
            "text/html": [
              "<pre style=\"white-space:pre;overflow-x:auto;line-height:normal;font-family:Menlo,'DejaVu Sans Mono',consolas,'Courier New',monospace\">Num of suitable reports: <span style=\"color: #008080; text-decoration-color: #008080; font-weight: bold\">12787</span>\n",
              "</pre>\n"
            ]
          },
          "metadata": {}
        },
        {
          "output_type": "display_data",
          "data": {
            "text/plain": [
              "CT_abdomen-pelvis Num of reports given the radiologist mapping :\u001b[1;36m18289\u001b[0m\n"
            ],
            "text/html": [
              "<pre style=\"white-space:pre;overflow-x:auto;line-height:normal;font-family:Menlo,'DejaVu Sans Mono',consolas,'Courier New',monospace\">CT_abdomen-pelvis Num of reports given the radiologist mapping :<span style=\"color: #008080; text-decoration-color: #008080; font-weight: bold\">18289</span>\n",
              "</pre>\n"
            ]
          },
          "metadata": {}
        },
        {
          "output_type": "display_data",
          "data": {
            "text/plain": [
              "Extracting sections\u001b[33m...\u001b[0m\n"
            ],
            "text/html": [
              "<pre style=\"white-space:pre;overflow-x:auto;line-height:normal;font-family:Menlo,'DejaVu Sans Mono',consolas,'Courier New',monospace\">Extracting sections<span style=\"color: #808000; text-decoration-color: #808000\">...</span>\n",
              "</pre>\n"
            ]
          },
          "metadata": {}
        },
        {
          "output_type": "stream",
          "name": "stderr",
          "text": [
            "100%|██████████| 18289/18289 [00:08<00:00, 2040.16it/s]\n"
          ]
        },
        {
          "output_type": "display_data",
          "data": {
            "text/plain": [
              "Num of suitable reports: \u001b[1;36m15990\u001b[0m\n"
            ],
            "text/html": [
              "<pre style=\"white-space:pre;overflow-x:auto;line-height:normal;font-family:Menlo,'DejaVu Sans Mono',consolas,'Courier New',monospace\">Num of suitable reports: <span style=\"color: #008080; text-decoration-color: #008080; font-weight: bold\">15990</span>\n",
              "</pre>\n"
            ]
          },
          "metadata": {}
        },
        {
          "output_type": "display_data",
          "data": {
            "text/plain": [
              "MR_abdomen Num of reports given the radiologist mapping :\u001b[1;36m1389\u001b[0m\n"
            ],
            "text/html": [
              "<pre style=\"white-space:pre;overflow-x:auto;line-height:normal;font-family:Menlo,'DejaVu Sans Mono',consolas,'Courier New',monospace\">MR_abdomen Num of reports given the radiologist mapping :<span style=\"color: #008080; text-decoration-color: #008080; font-weight: bold\">1389</span>\n",
              "</pre>\n"
            ]
          },
          "metadata": {}
        },
        {
          "output_type": "display_data",
          "data": {
            "text/plain": [
              "Extracting sections\u001b[33m...\u001b[0m\n"
            ],
            "text/html": [
              "<pre style=\"white-space:pre;overflow-x:auto;line-height:normal;font-family:Menlo,'DejaVu Sans Mono',consolas,'Courier New',monospace\">Extracting sections<span style=\"color: #808000; text-decoration-color: #808000\">...</span>\n",
              "</pre>\n"
            ]
          },
          "metadata": {}
        },
        {
          "output_type": "stream",
          "name": "stderr",
          "text": [
            "100%|██████████| 1389/1389 [00:00<00:00, 3772.17it/s]\n"
          ]
        },
        {
          "output_type": "display_data",
          "data": {
            "text/plain": [
              "Num of suitable reports: \u001b[1;36m1062\u001b[0m\n"
            ],
            "text/html": [
              "<pre style=\"white-space:pre;overflow-x:auto;line-height:normal;font-family:Menlo,'DejaVu Sans Mono',consolas,'Courier New',monospace\">Num of suitable reports: <span style=\"color: #008080; text-decoration-color: #008080; font-weight: bold\">1062</span>\n",
              "</pre>\n"
            ]
          },
          "metadata": {}
        },
        {
          "output_type": "display_data",
          "data": {
            "text/plain": [
              "MR_pelvis Num of reports given the radiologist mapping :\u001b[1;36m352\u001b[0m\n"
            ],
            "text/html": [
              "<pre style=\"white-space:pre;overflow-x:auto;line-height:normal;font-family:Menlo,'DejaVu Sans Mono',consolas,'Courier New',monospace\">MR_pelvis Num of reports given the radiologist mapping :<span style=\"color: #008080; text-decoration-color: #008080; font-weight: bold\">352</span>\n",
              "</pre>\n"
            ]
          },
          "metadata": {}
        },
        {
          "output_type": "display_data",
          "data": {
            "text/plain": [
              "Extracting sections\u001b[33m...\u001b[0m\n"
            ],
            "text/html": [
              "<pre style=\"white-space:pre;overflow-x:auto;line-height:normal;font-family:Menlo,'DejaVu Sans Mono',consolas,'Courier New',monospace\">Extracting sections<span style=\"color: #808000; text-decoration-color: #808000\">...</span>\n",
              "</pre>\n"
            ]
          },
          "metadata": {}
        },
        {
          "output_type": "stream",
          "name": "stderr",
          "text": [
            "100%|██████████| 352/352 [00:00<00:00, 3869.06it/s]\n"
          ]
        },
        {
          "output_type": "display_data",
          "data": {
            "text/plain": [
              "Num of suitable reports: \u001b[1;36m254\u001b[0m\n"
            ],
            "text/html": [
              "<pre style=\"white-space:pre;overflow-x:auto;line-height:normal;font-family:Menlo,'DejaVu Sans Mono',consolas,'Courier New',monospace\">Num of suitable reports: <span style=\"color: #008080; text-decoration-color: #008080; font-weight: bold\">254</span>\n",
              "</pre>\n"
            ]
          },
          "metadata": {}
        },
        {
          "output_type": "display_data",
          "data": {
            "text/plain": [
              "MR_spine Num of reports given the radiologist mapping :\u001b[1;36m4144\u001b[0m\n"
            ],
            "text/html": [
              "<pre style=\"white-space:pre;overflow-x:auto;line-height:normal;font-family:Menlo,'DejaVu Sans Mono',consolas,'Courier New',monospace\">MR_spine Num of reports given the radiologist mapping :<span style=\"color: #008080; text-decoration-color: #008080; font-weight: bold\">4144</span>\n",
              "</pre>\n"
            ]
          },
          "metadata": {}
        },
        {
          "output_type": "display_data",
          "data": {
            "text/plain": [
              "Extracting sections\u001b[33m...\u001b[0m\n"
            ],
            "text/html": [
              "<pre style=\"white-space:pre;overflow-x:auto;line-height:normal;font-family:Menlo,'DejaVu Sans Mono',consolas,'Courier New',monospace\">Extracting sections<span style=\"color: #808000; text-decoration-color: #808000\">...</span>\n",
              "</pre>\n"
            ]
          },
          "metadata": {}
        },
        {
          "output_type": "stream",
          "name": "stderr",
          "text": [
            "100%|██████████| 4144/4144 [00:00<00:00, 4610.13it/s]\n"
          ]
        },
        {
          "output_type": "display_data",
          "data": {
            "text/plain": [
              "Num of suitable reports: \u001b[1;36m2822\u001b[0m\n"
            ],
            "text/html": [
              "<pre style=\"white-space:pre;overflow-x:auto;line-height:normal;font-family:Menlo,'DejaVu Sans Mono',consolas,'Courier New',monospace\">Num of suitable reports: <span style=\"color: #008080; text-decoration-color: #008080; font-weight: bold\">2822</span>\n",
              "</pre>\n"
            ]
          },
          "metadata": {}
        },
        {
          "output_type": "display_data",
          "data": {
            "text/plain": [
              "MR_head Num of reports given the radiologist mapping :\u001b[1;36m11897\u001b[0m\n"
            ],
            "text/html": [
              "<pre style=\"white-space:pre;overflow-x:auto;line-height:normal;font-family:Menlo,'DejaVu Sans Mono',consolas,'Courier New',monospace\">MR_head Num of reports given the radiologist mapping :<span style=\"color: #008080; text-decoration-color: #008080; font-weight: bold\">11897</span>\n",
              "</pre>\n"
            ]
          },
          "metadata": {}
        },
        {
          "output_type": "display_data",
          "data": {
            "text/plain": [
              "Extracting sections\u001b[33m...\u001b[0m\n"
            ],
            "text/html": [
              "<pre style=\"white-space:pre;overflow-x:auto;line-height:normal;font-family:Menlo,'DejaVu Sans Mono',consolas,'Courier New',monospace\">Extracting sections<span style=\"color: #808000; text-decoration-color: #808000\">...</span>\n",
              "</pre>\n"
            ]
          },
          "metadata": {}
        },
        {
          "output_type": "stream",
          "name": "stderr",
          "text": [
            "100%|██████████| 11897/11897 [00:03<00:00, 3932.58it/s]\n"
          ]
        },
        {
          "output_type": "display_data",
          "data": {
            "text/plain": [
              "Num of suitable reports: \u001b[1;36m7314\u001b[0m\n"
            ],
            "text/html": [
              "<pre style=\"white-space:pre;overflow-x:auto;line-height:normal;font-family:Menlo,'DejaVu Sans Mono',consolas,'Courier New',monospace\">Num of suitable reports: <span style=\"color: #008080; text-decoration-color: #008080; font-weight: bold\">7314</span>\n",
              "</pre>\n"
            ]
          },
          "metadata": {}
        },
        {
          "output_type": "display_data",
          "data": {
            "text/plain": [
              "MR_neck Num of reports given the radiologist mapping :\u001b[1;36m359\u001b[0m\n"
            ],
            "text/html": [
              "<pre style=\"white-space:pre;overflow-x:auto;line-height:normal;font-family:Menlo,'DejaVu Sans Mono',consolas,'Courier New',monospace\">MR_neck Num of reports given the radiologist mapping :<span style=\"color: #008080; text-decoration-color: #008080; font-weight: bold\">359</span>\n",
              "</pre>\n"
            ]
          },
          "metadata": {}
        },
        {
          "output_type": "display_data",
          "data": {
            "text/plain": [
              "Extracting sections\u001b[33m...\u001b[0m\n"
            ],
            "text/html": [
              "<pre style=\"white-space:pre;overflow-x:auto;line-height:normal;font-family:Menlo,'DejaVu Sans Mono',consolas,'Courier New',monospace\">Extracting sections<span style=\"color: #808000; text-decoration-color: #808000\">...</span>\n",
              "</pre>\n"
            ]
          },
          "metadata": {}
        },
        {
          "output_type": "stream",
          "name": "stderr",
          "text": [
            "100%|██████████| 359/359 [00:00<00:00, 7158.94it/s]\n"
          ]
        },
        {
          "output_type": "display_data",
          "data": {
            "text/plain": [
              "Num of suitable reports: \u001b[1;36m231\u001b[0m\n"
            ],
            "text/html": [
              "<pre style=\"white-space:pre;overflow-x:auto;line-height:normal;font-family:Menlo,'DejaVu Sans Mono',consolas,'Courier New',monospace\">Num of suitable reports: <span style=\"color: #008080; text-decoration-color: #008080; font-weight: bold\">231</span>\n",
              "</pre>\n"
            ]
          },
          "metadata": {}
        }
      ],
      "source": [
        "# ['CT head', 'CT neck', 'CT Sinus', 'CT spine', 'CT chest', 'CT abdomen/pelvis', 'MR abdomen', 'MR pelvis', 'MR spine', 'MR head', 'MR neck']\n",
        "import shutil\n",
        "import os\n",
        "\n",
        "if os.path.exists('OUT'):\n",
        "  shutil.rmtree('OUT')\n",
        "\n",
        "from collections import Counter\n",
        "for EXP in mapping.keys():\n",
        "# for EXP in ['CT head']:\n",
        "  filter_reports = reports_csv[reports_csv[\"DESCRIPTION\"].isin(mapping[EXP])]\n",
        "  reports_list = filter_reports[\"TEXT\"].tolist()\n",
        "  reports_ids = filter_reports[\"ROW_ID\"].tolist()\n",
        "  missing_idx = []\n",
        "  print(EXP, \"Num of reports given the radiologist mapping :{}\".format(len(reports_list)))\n",
        "  counter = 0\n",
        "  all_sections = []\n",
        "  impressions_list = []\n",
        "  findings_list = []\n",
        "  print(\"Extracting sections...\")\n",
        "  for i in tqdm(range(len(reports_list))):\n",
        "      report = reports_list[i]\n",
        "      text = get_final_report(report)\n",
        "      # No reports ? we skip\n",
        "      if text is None: \n",
        "          missing_idx.append(reports_list.index(report))\n",
        "          continue\n",
        "\n",
        "      # Getting all sections from the reports\n",
        "      section_names, sections = extract_sections(text)\n",
        "      for j in range(len(section_names)):\n",
        "          if section_names[j] in section_map_rev: \n",
        "              section_names[j] = section_map_rev[section_names[j]]      \n",
        "      all_sections.extend(section_names)\n",
        "\n",
        "      # Is there no or two impressions ? Its safer to skip (multiple studies of differents body parts in the same reports)\n",
        "      count = section_names.count('impression')\n",
        "      if count > 1 or count == 0:\n",
        "        counter +=1\n",
        "        continue\n",
        "      \n",
        "      # Finding the findings\n",
        "      impression_text = sections[section_names.index(\"impression\")]\n",
        "      section_names.remove(\"impression\")\n",
        "      findings_text = \"\"\n",
        "      for m in findings_mapping[EXP]:\n",
        "        if m[0] in section_names:\n",
        "          findings_text = sections[section_names.index(m[0])]\n",
        "          if findings_text:\n",
        "            break\n",
        "      \n",
        "      # No findings ? Skip\n",
        "      if not findings_text:\n",
        "        continue\n",
        "\n",
        "      findings_list.append(re.sub(\"\\s+\", \" \", findings_text))\n",
        "      impressions_list.append(re.sub(\"\\s+\", \" \", impression_text))\n",
        "  \n",
        "  # preprocessing the findings and impression.\n",
        "  findings_list_clean = []\n",
        "  impressions_list_clean = []\n",
        "  for f in findings_list:\n",
        "    for replace in re.findall(r'\\[\\*\\*(.*?)\\*\\*\\]', f):\n",
        "      f = f.replace(\"[**{}**]\".format(replace), \"___\")\n",
        "    findings_list_clean.append(f)\n",
        "\n",
        "  for f in impressions_list:\n",
        "    for replace in re.findall(r'\\[\\*\\*(.*?)\\*\\*\\]', f):\n",
        "      f = f.replace(\"[**{}**]\".format(replace), \"___\")\n",
        "    impressions_list_clean.append(f)\n",
        "\n",
        "  assert (len(impressions_list_clean)) == (len(findings_list_clean))\n",
        "  print(\"Num of suitable reports:\",len(impressions_list_clean))\n",
        "\n",
        "  os.makedirs(\"OUT/{}/\".format(EXP), exist_ok=True)\n",
        "  open(\"OUT/{}/impression.txt\".format(EXP), \"w\").write(\"\\n\".join(impressions_list_clean))\n",
        "  open(\"OUT/{}/findings.txt\".format(EXP), \"w\").write(\"\\n\".join(findings_list_clean))\n",
        "\n",
        "\n",
        "# print(\"More than one impression: {}\".format(counter))\n",
        "# if EXP in [\"CT chest\"]:\n",
        "#   x = Counter({k[0]:k[1] for k in Counter(all_sections).most_common() if (\"chest\" in k[0] and \"abdomen\" not in k[0] and \"pelvis\" not in k[0]) or k[0]==\"findings\"})\n",
        "# if EXP in [\"CT abdomen/pelvis\"]:\n",
        "#   x = Counter({k[0]:k[1] for k in Counter(all_sections).most_common() if ((\"chest\" not in k[0] and (\"abdomen\" in k[0] or (\"pelvis\" in k[0])) and not (\"abdomen\" in k[0] and (\"pelvis\" in k[0]))) or k[0]==\"findings\")})\n",
        "# if EXP in [\"MR abdomen\"]:\n",
        "#   x = Counter({k[0]:k[1] for k in Counter(all_sections).most_common() if ((\"abdomen\" in k[0] and not \"pelvis\" in k[0])  or k[0]==\"findings\")})\n",
        "# if EXP in [\"MR pelvis\"]:\n",
        "#   x = Counter({k[0]:k[1] for k in Counter(all_sections).most_common() if ((\"pelvis\" in k[0] and not \"abdomen\" in k[0])  or k[0]==\"findings\")})\n",
        "# if EXP in [\"MR spine\"]:\n",
        "#   x = Counter({k[0]:k[1] for k in Counter(all_sections).most_common() if ((\"spine\" in k[0])  or k[0]==\"findings\")})\n",
        "# if EXP in [\"MR head\"]:\n",
        "#   x = Counter({k[0]:k[1] for k in Counter(all_sections).most_common() if ((\"head\" in k[0] and not \"neck\" in k[0])  or k[0]==\"findings\")})\n",
        "# if EXP in [\"MR neck\"]:\n",
        "#   x = Counter({k[0]:k[1] for k in Counter(all_sections).most_common() if ((\"neck\" in k[0] and not \"head\" in k[0])  or k[0]==\"findings\")})\n",
        "# print(x.most_common())\n",
        "  # print(set(all_sections))"
      ]
    },
    {
      "cell_type": "markdown",
      "source": [
        "The above cell should have the following output:\n",
        "\n",
        "```\n",
        "CT_head Num of reports given the radiologist mapping :38807\n",
        "Extracting sections...\n",
        "100%|██████████| 38807/38807 [00:18<00:00, 2061.53it/s]\n",
        "Num of suitable reports: 31403\n",
        "CT_neck Num of reports given the radiologist mapping :1599\n",
        "Extracting sections...\n",
        "100%|██████████| 1599/1599 [00:00<00:00, 4775.90it/s]\n",
        "Num of suitable reports: 1141\n",
        "CT_sinus Num of reports given the radiologist mapping :1747\n",
        "Extracting sections...\n",
        "100%|██████████| 1747/1747 [00:00<00:00, 6292.91it/s]\n",
        "Num of suitable reports: 1268\n",
        "CT_spine Num of reports given the radiologist mapping :6447\n",
        "Extracting sections...\n",
        "100%|██████████| 6447/6447 [00:01<00:00, 6129.05it/s]\n",
        "Num of suitable reports: 5518\n",
        "CT_chest Num of reports given the radiologist mapping :15248\n",
        "Extracting sections...\n",
        "100%|██████████| 15248/15248 [00:04<00:00, 3191.33it/s]\n",
        "Num of suitable reports: 12787\n",
        "CT_abdomen-pelvis Num of reports given the radiologist mapping :18289\n",
        "Extracting sections...\n",
        "100%|██████████| 18289/18289 [00:05<00:00, 3050.60it/s]\n",
        "Num of suitable reports: 15990\n",
        "MR_abdomen Num of reports given the radiologist mapping :1389\n",
        "Extracting sections...\n",
        "100%|██████████| 1389/1389 [00:00<00:00, 3920.08it/s]\n",
        "Num of suitable reports: 1062\n",
        "MR_pelvis Num of reports given the radiologist mapping :352\n",
        "Extracting sections...\n",
        "100%|██████████| 352/352 [00:00<00:00, 4525.21it/s]\n",
        "Num of suitable reports: 254\n",
        "MR_spine Num of reports given the radiologist mapping :4144\n",
        "Extracting sections...\n",
        "100%|██████████| 4144/4144 [00:00<00:00, 4878.81it/s]\n",
        "Num of suitable reports: 2822\n",
        "MR_head Num of reports given the radiologist mapping :11897\n",
        "Extracting sections...\n",
        "100%|██████████| 11897/11897 [00:02<00:00, 4193.67it/s]\n",
        "Num of suitable reports: 7314\n",
        "MR_neck Num of reports given the radiologist mapping :359\n",
        "Extracting sections...\n",
        "100%|██████████| 359/359 [00:00<00:00, 7074.29it/s]\n",
        "Num of suitable reports: 231\n",
        "```\n",
        "\n"
      ],
      "metadata": {
        "id": "vYNjjyoWuWt5"
      },
      "id": "vYNjjyoWuWt5"
    },
    {
      "cell_type": "code",
      "source": [
        ""
      ],
      "metadata": {
        "id": "KsX1GYEHujos"
      },
      "id": "KsX1GYEHujos",
      "execution_count": 11,
      "outputs": []
    },
    {
      "cell_type": "code",
      "source": [
        ""
      ],
      "metadata": {
        "id": "fi6DdWPDt4UN"
      },
      "id": "fi6DdWPDt4UN",
      "execution_count": 11,
      "outputs": []
    },
    {
      "cell_type": "markdown",
      "source": [
        "# Splitting the dataset (random, seeded)"
      ],
      "metadata": {
        "id": "-8ADY2uAwCCk"
      },
      "id": "-8ADY2uAwCCk"
    },
    {
      "cell_type": "code",
      "execution_count": 12,
      "id": "married-ghost",
      "metadata": {
        "id": "married-ghost",
        "colab": {
          "base_uri": "https://localhost:8080/",
          "height": 0
        },
        "outputId": "256733d1-8588-4f2b-bbad-083619c9fd24"
      },
      "outputs": [
        {
          "output_type": "display_data",
          "data": {
            "text/plain": [
              "\u001b[1m{\u001b[0m\n",
              "    \u001b[32m\"OUT/CT_head/impression.txt\"\u001b[0m: \u001b[1;36m31403\u001b[0m,\n",
              "    \u001b[32m\"OUT/CT_head/train.impression.tok\"\u001b[0m: \u001b[1;36m25122\u001b[0m,\n",
              "    \u001b[32m\"OUT/CT_head/train.findings.tok\"\u001b[0m: \u001b[1;36m25122\u001b[0m,\n",
              "    \u001b[32m\"OUT/CT_head/test.findings.tok\"\u001b[0m: \u001b[1;36m3141\u001b[0m,\n",
              "    \u001b[32m\"OUT/CT_head/validate.findings.tok\"\u001b[0m: \u001b[1;36m3140\u001b[0m,\n",
              "    \u001b[32m\"OUT/CT_head/findings.txt\"\u001b[0m: \u001b[1;36m31403\u001b[0m,\n",
              "    \u001b[32m\"OUT/CT_head/validate.impression.tok\"\u001b[0m: \u001b[1;36m3140\u001b[0m,\n",
              "    \u001b[32m\"OUT/CT_head/test.impression.tok\"\u001b[0m: \u001b[1;36m3141\u001b[0m\n",
              "\u001b[1m}\u001b[0m\n"
            ],
            "text/html": [
              "<pre style=\"white-space:pre;overflow-x:auto;line-height:normal;font-family:Menlo,'DejaVu Sans Mono',consolas,'Courier New',monospace\"><span style=\"font-weight: bold\">{</span>\n",
              "    <span style=\"color: #008000; text-decoration-color: #008000\">\"OUT/CT_head/impression.txt\"</span>: <span style=\"color: #008080; text-decoration-color: #008080; font-weight: bold\">31403</span>,\n",
              "    <span style=\"color: #008000; text-decoration-color: #008000\">\"OUT/CT_head/train.impression.tok\"</span>: <span style=\"color: #008080; text-decoration-color: #008080; font-weight: bold\">25122</span>,\n",
              "    <span style=\"color: #008000; text-decoration-color: #008000\">\"OUT/CT_head/train.findings.tok\"</span>: <span style=\"color: #008080; text-decoration-color: #008080; font-weight: bold\">25122</span>,\n",
              "    <span style=\"color: #008000; text-decoration-color: #008000\">\"OUT/CT_head/test.findings.tok\"</span>: <span style=\"color: #008080; text-decoration-color: #008080; font-weight: bold\">3141</span>,\n",
              "    <span style=\"color: #008000; text-decoration-color: #008000\">\"OUT/CT_head/validate.findings.tok\"</span>: <span style=\"color: #008080; text-decoration-color: #008080; font-weight: bold\">3140</span>,\n",
              "    <span style=\"color: #008000; text-decoration-color: #008000\">\"OUT/CT_head/findings.txt\"</span>: <span style=\"color: #008080; text-decoration-color: #008080; font-weight: bold\">31403</span>,\n",
              "    <span style=\"color: #008000; text-decoration-color: #008000\">\"OUT/CT_head/validate.impression.tok\"</span>: <span style=\"color: #008080; text-decoration-color: #008080; font-weight: bold\">3140</span>,\n",
              "    <span style=\"color: #008000; text-decoration-color: #008000\">\"OUT/CT_head/test.impression.tok\"</span>: <span style=\"color: #008080; text-decoration-color: #008080; font-weight: bold\">3141</span>\n",
              "<span style=\"font-weight: bold\">}</span>\n",
              "</pre>\n"
            ]
          },
          "metadata": {}
        },
        {
          "output_type": "display_data",
          "data": {
            "text/plain": [
              "\u001b[1m{\u001b[0m\n",
              "    \u001b[32m\"OUT/CT_spine/impression.txt\"\u001b[0m: \u001b[1;36m5518\u001b[0m,\n",
              "    \u001b[32m\"OUT/CT_spine/train.impression.tok\"\u001b[0m: \u001b[1;36m4414\u001b[0m,\n",
              "    \u001b[32m\"OUT/CT_spine/train.findings.tok\"\u001b[0m: \u001b[1;36m4414\u001b[0m,\n",
              "    \u001b[32m\"OUT/CT_spine/test.findings.tok\"\u001b[0m: \u001b[1;36m553\u001b[0m,\n",
              "    \u001b[32m\"OUT/CT_spine/validate.findings.tok\"\u001b[0m: \u001b[1;36m551\u001b[0m,\n",
              "    \u001b[32m\"OUT/CT_spine/findings.txt\"\u001b[0m: \u001b[1;36m5518\u001b[0m,\n",
              "    \u001b[32m\"OUT/CT_spine/validate.impression.tok\"\u001b[0m: \u001b[1;36m551\u001b[0m,\n",
              "    \u001b[32m\"OUT/CT_spine/test.impression.tok\"\u001b[0m: \u001b[1;36m553\u001b[0m\n",
              "\u001b[1m}\u001b[0m\n"
            ],
            "text/html": [
              "<pre style=\"white-space:pre;overflow-x:auto;line-height:normal;font-family:Menlo,'DejaVu Sans Mono',consolas,'Courier New',monospace\"><span style=\"font-weight: bold\">{</span>\n",
              "    <span style=\"color: #008000; text-decoration-color: #008000\">\"OUT/CT_spine/impression.txt\"</span>: <span style=\"color: #008080; text-decoration-color: #008080; font-weight: bold\">5518</span>,\n",
              "    <span style=\"color: #008000; text-decoration-color: #008000\">\"OUT/CT_spine/train.impression.tok\"</span>: <span style=\"color: #008080; text-decoration-color: #008080; font-weight: bold\">4414</span>,\n",
              "    <span style=\"color: #008000; text-decoration-color: #008000\">\"OUT/CT_spine/train.findings.tok\"</span>: <span style=\"color: #008080; text-decoration-color: #008080; font-weight: bold\">4414</span>,\n",
              "    <span style=\"color: #008000; text-decoration-color: #008000\">\"OUT/CT_spine/test.findings.tok\"</span>: <span style=\"color: #008080; text-decoration-color: #008080; font-weight: bold\">553</span>,\n",
              "    <span style=\"color: #008000; text-decoration-color: #008000\">\"OUT/CT_spine/validate.findings.tok\"</span>: <span style=\"color: #008080; text-decoration-color: #008080; font-weight: bold\">551</span>,\n",
              "    <span style=\"color: #008000; text-decoration-color: #008000\">\"OUT/CT_spine/findings.txt\"</span>: <span style=\"color: #008080; text-decoration-color: #008080; font-weight: bold\">5518</span>,\n",
              "    <span style=\"color: #008000; text-decoration-color: #008000\">\"OUT/CT_spine/validate.impression.tok\"</span>: <span style=\"color: #008080; text-decoration-color: #008080; font-weight: bold\">551</span>,\n",
              "    <span style=\"color: #008000; text-decoration-color: #008000\">\"OUT/CT_spine/test.impression.tok\"</span>: <span style=\"color: #008080; text-decoration-color: #008080; font-weight: bold\">553</span>\n",
              "<span style=\"font-weight: bold\">}</span>\n",
              "</pre>\n"
            ]
          },
          "metadata": {}
        },
        {
          "output_type": "display_data",
          "data": {
            "text/plain": [
              "\u001b[1m{\u001b[0m\n",
              "    \u001b[32m\"OUT/CT_chest/impression.txt\"\u001b[0m: \u001b[1;36m12787\u001b[0m,\n",
              "    \u001b[32m\"OUT/CT_chest/train.impression.tok\"\u001b[0m: \u001b[1;36m10229\u001b[0m,\n",
              "    \u001b[32m\"OUT/CT_chest/train.findings.tok\"\u001b[0m: \u001b[1;36m10229\u001b[0m,\n",
              "    \u001b[32m\"OUT/CT_chest/test.findings.tok\"\u001b[0m: \u001b[1;36m1280\u001b[0m,\n",
              "    \u001b[32m\"OUT/CT_chest/validate.findings.tok\"\u001b[0m: \u001b[1;36m1278\u001b[0m,\n",
              "    \u001b[32m\"OUT/CT_chest/findings.txt\"\u001b[0m: \u001b[1;36m12787\u001b[0m,\n",
              "    \u001b[32m\"OUT/CT_chest/validate.impression.tok\"\u001b[0m: \u001b[1;36m1278\u001b[0m,\n",
              "    \u001b[32m\"OUT/CT_chest/test.impression.tok\"\u001b[0m: \u001b[1;36m1280\u001b[0m\n",
              "\u001b[1m}\u001b[0m\n"
            ],
            "text/html": [
              "<pre style=\"white-space:pre;overflow-x:auto;line-height:normal;font-family:Menlo,'DejaVu Sans Mono',consolas,'Courier New',monospace\"><span style=\"font-weight: bold\">{</span>\n",
              "    <span style=\"color: #008000; text-decoration-color: #008000\">\"OUT/CT_chest/impression.txt\"</span>: <span style=\"color: #008080; text-decoration-color: #008080; font-weight: bold\">12787</span>,\n",
              "    <span style=\"color: #008000; text-decoration-color: #008000\">\"OUT/CT_chest/train.impression.tok\"</span>: <span style=\"color: #008080; text-decoration-color: #008080; font-weight: bold\">10229</span>,\n",
              "    <span style=\"color: #008000; text-decoration-color: #008000\">\"OUT/CT_chest/train.findings.tok\"</span>: <span style=\"color: #008080; text-decoration-color: #008080; font-weight: bold\">10229</span>,\n",
              "    <span style=\"color: #008000; text-decoration-color: #008000\">\"OUT/CT_chest/test.findings.tok\"</span>: <span style=\"color: #008080; text-decoration-color: #008080; font-weight: bold\">1280</span>,\n",
              "    <span style=\"color: #008000; text-decoration-color: #008000\">\"OUT/CT_chest/validate.findings.tok\"</span>: <span style=\"color: #008080; text-decoration-color: #008080; font-weight: bold\">1278</span>,\n",
              "    <span style=\"color: #008000; text-decoration-color: #008000\">\"OUT/CT_chest/findings.txt\"</span>: <span style=\"color: #008080; text-decoration-color: #008080; font-weight: bold\">12787</span>,\n",
              "    <span style=\"color: #008000; text-decoration-color: #008000\">\"OUT/CT_chest/validate.impression.tok\"</span>: <span style=\"color: #008080; text-decoration-color: #008080; font-weight: bold\">1278</span>,\n",
              "    <span style=\"color: #008000; text-decoration-color: #008000\">\"OUT/CT_chest/test.impression.tok\"</span>: <span style=\"color: #008080; text-decoration-color: #008080; font-weight: bold\">1280</span>\n",
              "<span style=\"font-weight: bold\">}</span>\n",
              "</pre>\n"
            ]
          },
          "metadata": {}
        },
        {
          "output_type": "display_data",
          "data": {
            "text/plain": [
              "\u001b[1m{\u001b[0m\n",
              "    \u001b[32m\"OUT/CT_abdomen-pelvis/impression.txt\"\u001b[0m: \u001b[1;36m15990\u001b[0m,\n",
              "    \u001b[32m\"OUT/CT_abdomen-pelvis/train.impression.tok\"\u001b[0m: \u001b[1;36m12792\u001b[0m,\n",
              "    \u001b[32m\"OUT/CT_abdomen-pelvis/train.findings.tok\"\u001b[0m: \u001b[1;36m12792\u001b[0m,\n",
              "    \u001b[32m\"OUT/CT_abdomen-pelvis/test.findings.tok\"\u001b[0m: \u001b[1;36m1599\u001b[0m,\n",
              "    \u001b[32m\"OUT/CT_abdomen-pelvis/validate.findings.tok\"\u001b[0m: \u001b[1;36m1599\u001b[0m,\n",
              "    \u001b[32m\"OUT/CT_abdomen-pelvis/findings.txt\"\u001b[0m: \u001b[1;36m15990\u001b[0m,\n",
              "    \u001b[32m\"OUT/CT_abdomen-pelvis/validate.impression.tok\"\u001b[0m: \u001b[1;36m1599\u001b[0m,\n",
              "    \u001b[32m\"OUT/CT_abdomen-pelvis/test.impression.tok\"\u001b[0m: \u001b[1;36m1599\u001b[0m\n",
              "\u001b[1m}\u001b[0m\n"
            ],
            "text/html": [
              "<pre style=\"white-space:pre;overflow-x:auto;line-height:normal;font-family:Menlo,'DejaVu Sans Mono',consolas,'Courier New',monospace\"><span style=\"font-weight: bold\">{</span>\n",
              "    <span style=\"color: #008000; text-decoration-color: #008000\">\"OUT/CT_abdomen-pelvis/impression.txt\"</span>: <span style=\"color: #008080; text-decoration-color: #008080; font-weight: bold\">15990</span>,\n",
              "    <span style=\"color: #008000; text-decoration-color: #008000\">\"OUT/CT_abdomen-pelvis/train.impression.tok\"</span>: <span style=\"color: #008080; text-decoration-color: #008080; font-weight: bold\">12792</span>,\n",
              "    <span style=\"color: #008000; text-decoration-color: #008000\">\"OUT/CT_abdomen-pelvis/train.findings.tok\"</span>: <span style=\"color: #008080; text-decoration-color: #008080; font-weight: bold\">12792</span>,\n",
              "    <span style=\"color: #008000; text-decoration-color: #008000\">\"OUT/CT_abdomen-pelvis/test.findings.tok\"</span>: <span style=\"color: #008080; text-decoration-color: #008080; font-weight: bold\">1599</span>,\n",
              "    <span style=\"color: #008000; text-decoration-color: #008000\">\"OUT/CT_abdomen-pelvis/validate.findings.tok\"</span>: <span style=\"color: #008080; text-decoration-color: #008080; font-weight: bold\">1599</span>,\n",
              "    <span style=\"color: #008000; text-decoration-color: #008000\">\"OUT/CT_abdomen-pelvis/findings.txt\"</span>: <span style=\"color: #008080; text-decoration-color: #008080; font-weight: bold\">15990</span>,\n",
              "    <span style=\"color: #008000; text-decoration-color: #008000\">\"OUT/CT_abdomen-pelvis/validate.impression.tok\"</span>: <span style=\"color: #008080; text-decoration-color: #008080; font-weight: bold\">1599</span>,\n",
              "    <span style=\"color: #008000; text-decoration-color: #008000\">\"OUT/CT_abdomen-pelvis/test.impression.tok\"</span>: <span style=\"color: #008080; text-decoration-color: #008080; font-weight: bold\">1599</span>\n",
              "<span style=\"font-weight: bold\">}</span>\n",
              "</pre>\n"
            ]
          },
          "metadata": {}
        },
        {
          "output_type": "display_data",
          "data": {
            "text/plain": [
              "\u001b[1m{\u001b[0m\n",
              "    \u001b[32m\"OUT/MR_head/impression.txt\"\u001b[0m: \u001b[1;36m7314\u001b[0m,\n",
              "    \u001b[32m\"OUT/MR_head/train.impression.tok\"\u001b[0m: \u001b[1;36m5851\u001b[0m,\n",
              "    \u001b[32m\"OUT/MR_head/train.findings.tok\"\u001b[0m: \u001b[1;36m5851\u001b[0m,\n",
              "    \u001b[32m\"OUT/MR_head/test.findings.tok\"\u001b[0m: \u001b[1;36m732\u001b[0m,\n",
              "    \u001b[32m\"OUT/MR_head/validate.findings.tok\"\u001b[0m: \u001b[1;36m731\u001b[0m,\n",
              "    \u001b[32m\"OUT/MR_head/findings.txt\"\u001b[0m: \u001b[1;36m7314\u001b[0m,\n",
              "    \u001b[32m\"OUT/MR_head/validate.impression.tok\"\u001b[0m: \u001b[1;36m731\u001b[0m,\n",
              "    \u001b[32m\"OUT/MR_head/test.impression.tok\"\u001b[0m: \u001b[1;36m732\u001b[0m\n",
              "\u001b[1m}\u001b[0m\n"
            ],
            "text/html": [
              "<pre style=\"white-space:pre;overflow-x:auto;line-height:normal;font-family:Menlo,'DejaVu Sans Mono',consolas,'Courier New',monospace\"><span style=\"font-weight: bold\">{</span>\n",
              "    <span style=\"color: #008000; text-decoration-color: #008000\">\"OUT/MR_head/impression.txt\"</span>: <span style=\"color: #008080; text-decoration-color: #008080; font-weight: bold\">7314</span>,\n",
              "    <span style=\"color: #008000; text-decoration-color: #008000\">\"OUT/MR_head/train.impression.tok\"</span>: <span style=\"color: #008080; text-decoration-color: #008080; font-weight: bold\">5851</span>,\n",
              "    <span style=\"color: #008000; text-decoration-color: #008000\">\"OUT/MR_head/train.findings.tok\"</span>: <span style=\"color: #008080; text-decoration-color: #008080; font-weight: bold\">5851</span>,\n",
              "    <span style=\"color: #008000; text-decoration-color: #008000\">\"OUT/MR_head/test.findings.tok\"</span>: <span style=\"color: #008080; text-decoration-color: #008080; font-weight: bold\">732</span>,\n",
              "    <span style=\"color: #008000; text-decoration-color: #008000\">\"OUT/MR_head/validate.findings.tok\"</span>: <span style=\"color: #008080; text-decoration-color: #008080; font-weight: bold\">731</span>,\n",
              "    <span style=\"color: #008000; text-decoration-color: #008000\">\"OUT/MR_head/findings.txt\"</span>: <span style=\"color: #008080; text-decoration-color: #008080; font-weight: bold\">7314</span>,\n",
              "    <span style=\"color: #008000; text-decoration-color: #008000\">\"OUT/MR_head/validate.impression.tok\"</span>: <span style=\"color: #008080; text-decoration-color: #008080; font-weight: bold\">731</span>,\n",
              "    <span style=\"color: #008000; text-decoration-color: #008000\">\"OUT/MR_head/test.impression.tok\"</span>: <span style=\"color: #008080; text-decoration-color: #008080; font-weight: bold\">732</span>\n",
              "<span style=\"font-weight: bold\">}</span>\n",
              "</pre>\n"
            ]
          },
          "metadata": {}
        },
        {
          "output_type": "display_data",
          "data": {
            "text/plain": [
              "\u001b[1m{\u001b[0m\n",
              "    \u001b[32m\"OUT/CT_sinus/impression.txt\"\u001b[0m: \u001b[1;36m1268\u001b[0m,\n",
              "    \u001b[32m\"OUT/CT_sinus/test.findings.tok\"\u001b[0m: \u001b[1;36m1268\u001b[0m,\n",
              "    \u001b[32m\"OUT/CT_sinus/findings.txt\"\u001b[0m: \u001b[1;36m1268\u001b[0m,\n",
              "    \u001b[32m\"OUT/CT_sinus/test.impression.tok\"\u001b[0m: \u001b[1;36m1268\u001b[0m\n",
              "\u001b[1m}\u001b[0m\n"
            ],
            "text/html": [
              "<pre style=\"white-space:pre;overflow-x:auto;line-height:normal;font-family:Menlo,'DejaVu Sans Mono',consolas,'Courier New',monospace\"><span style=\"font-weight: bold\">{</span>\n",
              "    <span style=\"color: #008000; text-decoration-color: #008000\">\"OUT/CT_sinus/impression.txt\"</span>: <span style=\"color: #008080; text-decoration-color: #008080; font-weight: bold\">1268</span>,\n",
              "    <span style=\"color: #008000; text-decoration-color: #008000\">\"OUT/CT_sinus/test.findings.tok\"</span>: <span style=\"color: #008080; text-decoration-color: #008080; font-weight: bold\">1268</span>,\n",
              "    <span style=\"color: #008000; text-decoration-color: #008000\">\"OUT/CT_sinus/findings.txt\"</span>: <span style=\"color: #008080; text-decoration-color: #008080; font-weight: bold\">1268</span>,\n",
              "    <span style=\"color: #008000; text-decoration-color: #008000\">\"OUT/CT_sinus/test.impression.tok\"</span>: <span style=\"color: #008080; text-decoration-color: #008080; font-weight: bold\">1268</span>\n",
              "<span style=\"font-weight: bold\">}</span>\n",
              "</pre>\n"
            ]
          },
          "metadata": {}
        },
        {
          "output_type": "display_data",
          "data": {
            "text/plain": [
              "\u001b[1m{\u001b[0m\n",
              "    \u001b[32m\"OUT/MR_pelvis/impression.txt\"\u001b[0m: \u001b[1;36m254\u001b[0m,\n",
              "    \u001b[32m\"OUT/MR_pelvis/test.findings.tok\"\u001b[0m: \u001b[1;36m254\u001b[0m,\n",
              "    \u001b[32m\"OUT/MR_pelvis/findings.txt\"\u001b[0m: \u001b[1;36m254\u001b[0m,\n",
              "    \u001b[32m\"OUT/MR_pelvis/test.impression.tok\"\u001b[0m: \u001b[1;36m254\u001b[0m\n",
              "\u001b[1m}\u001b[0m\n"
            ],
            "text/html": [
              "<pre style=\"white-space:pre;overflow-x:auto;line-height:normal;font-family:Menlo,'DejaVu Sans Mono',consolas,'Courier New',monospace\"><span style=\"font-weight: bold\">{</span>\n",
              "    <span style=\"color: #008000; text-decoration-color: #008000\">\"OUT/MR_pelvis/impression.txt\"</span>: <span style=\"color: #008080; text-decoration-color: #008080; font-weight: bold\">254</span>,\n",
              "    <span style=\"color: #008000; text-decoration-color: #008000\">\"OUT/MR_pelvis/test.findings.tok\"</span>: <span style=\"color: #008080; text-decoration-color: #008080; font-weight: bold\">254</span>,\n",
              "    <span style=\"color: #008000; text-decoration-color: #008000\">\"OUT/MR_pelvis/findings.txt\"</span>: <span style=\"color: #008080; text-decoration-color: #008080; font-weight: bold\">254</span>,\n",
              "    <span style=\"color: #008000; text-decoration-color: #008000\">\"OUT/MR_pelvis/test.impression.tok\"</span>: <span style=\"color: #008080; text-decoration-color: #008080; font-weight: bold\">254</span>\n",
              "<span style=\"font-weight: bold\">}</span>\n",
              "</pre>\n"
            ]
          },
          "metadata": {}
        },
        {
          "output_type": "display_data",
          "data": {
            "text/plain": [
              "\u001b[1m{\u001b[0m\n",
              "    \u001b[32m\"OUT/MR_neck/impression.txt\"\u001b[0m: \u001b[1;36m231\u001b[0m,\n",
              "    \u001b[32m\"OUT/MR_neck/test.findings.tok\"\u001b[0m: \u001b[1;36m231\u001b[0m,\n",
              "    \u001b[32m\"OUT/MR_neck/findings.txt\"\u001b[0m: \u001b[1;36m231\u001b[0m,\n",
              "    \u001b[32m\"OUT/MR_neck/test.impression.tok\"\u001b[0m: \u001b[1;36m231\u001b[0m\n",
              "\u001b[1m}\u001b[0m\n"
            ],
            "text/html": [
              "<pre style=\"white-space:pre;overflow-x:auto;line-height:normal;font-family:Menlo,'DejaVu Sans Mono',consolas,'Courier New',monospace\"><span style=\"font-weight: bold\">{</span>\n",
              "    <span style=\"color: #008000; text-decoration-color: #008000\">\"OUT/MR_neck/impression.txt\"</span>: <span style=\"color: #008080; text-decoration-color: #008080; font-weight: bold\">231</span>,\n",
              "    <span style=\"color: #008000; text-decoration-color: #008000\">\"OUT/MR_neck/test.findings.tok\"</span>: <span style=\"color: #008080; text-decoration-color: #008080; font-weight: bold\">231</span>,\n",
              "    <span style=\"color: #008000; text-decoration-color: #008000\">\"OUT/MR_neck/findings.txt\"</span>: <span style=\"color: #008080; text-decoration-color: #008080; font-weight: bold\">231</span>,\n",
              "    <span style=\"color: #008000; text-decoration-color: #008000\">\"OUT/MR_neck/test.impression.tok\"</span>: <span style=\"color: #008080; text-decoration-color: #008080; font-weight: bold\">231</span>\n",
              "<span style=\"font-weight: bold\">}</span>\n",
              "</pre>\n"
            ]
          },
          "metadata": {}
        },
        {
          "output_type": "display_data",
          "data": {
            "text/plain": [
              "\u001b[1m{\u001b[0m\n",
              "    \u001b[32m\"OUT/MR_abdomen/impression.txt\"\u001b[0m: \u001b[1;36m1062\u001b[0m,\n",
              "    \u001b[32m\"OUT/MR_abdomen/test.findings.tok\"\u001b[0m: \u001b[1;36m1062\u001b[0m,\n",
              "    \u001b[32m\"OUT/MR_abdomen/findings.txt\"\u001b[0m: \u001b[1;36m1062\u001b[0m,\n",
              "    \u001b[32m\"OUT/MR_abdomen/test.impression.tok\"\u001b[0m: \u001b[1;36m1062\u001b[0m\n",
              "\u001b[1m}\u001b[0m\n"
            ],
            "text/html": [
              "<pre style=\"white-space:pre;overflow-x:auto;line-height:normal;font-family:Menlo,'DejaVu Sans Mono',consolas,'Courier New',monospace\"><span style=\"font-weight: bold\">{</span>\n",
              "    <span style=\"color: #008000; text-decoration-color: #008000\">\"OUT/MR_abdomen/impression.txt\"</span>: <span style=\"color: #008080; text-decoration-color: #008080; font-weight: bold\">1062</span>,\n",
              "    <span style=\"color: #008000; text-decoration-color: #008000\">\"OUT/MR_abdomen/test.findings.tok\"</span>: <span style=\"color: #008080; text-decoration-color: #008080; font-weight: bold\">1062</span>,\n",
              "    <span style=\"color: #008000; text-decoration-color: #008000\">\"OUT/MR_abdomen/findings.txt\"</span>: <span style=\"color: #008080; text-decoration-color: #008080; font-weight: bold\">1062</span>,\n",
              "    <span style=\"color: #008000; text-decoration-color: #008000\">\"OUT/MR_abdomen/test.impression.tok\"</span>: <span style=\"color: #008080; text-decoration-color: #008080; font-weight: bold\">1062</span>\n",
              "<span style=\"font-weight: bold\">}</span>\n",
              "</pre>\n"
            ]
          },
          "metadata": {}
        },
        {
          "output_type": "display_data",
          "data": {
            "text/plain": [
              "\u001b[1m{\u001b[0m\n",
              "    \u001b[32m\"OUT/MR_spine/impression.txt\"\u001b[0m: \u001b[1;36m2822\u001b[0m,\n",
              "    \u001b[32m\"OUT/MR_spine/test.findings.tok\"\u001b[0m: \u001b[1;36m2822\u001b[0m,\n",
              "    \u001b[32m\"OUT/MR_spine/findings.txt\"\u001b[0m: \u001b[1;36m2822\u001b[0m,\n",
              "    \u001b[32m\"OUT/MR_spine/test.impression.tok\"\u001b[0m: \u001b[1;36m2822\u001b[0m\n",
              "\u001b[1m}\u001b[0m\n"
            ],
            "text/html": [
              "<pre style=\"white-space:pre;overflow-x:auto;line-height:normal;font-family:Menlo,'DejaVu Sans Mono',consolas,'Courier New',monospace\"><span style=\"font-weight: bold\">{</span>\n",
              "    <span style=\"color: #008000; text-decoration-color: #008000\">\"OUT/MR_spine/impression.txt\"</span>: <span style=\"color: #008080; text-decoration-color: #008080; font-weight: bold\">2822</span>,\n",
              "    <span style=\"color: #008000; text-decoration-color: #008000\">\"OUT/MR_spine/test.findings.tok\"</span>: <span style=\"color: #008080; text-decoration-color: #008080; font-weight: bold\">2822</span>,\n",
              "    <span style=\"color: #008000; text-decoration-color: #008000\">\"OUT/MR_spine/findings.txt\"</span>: <span style=\"color: #008080; text-decoration-color: #008080; font-weight: bold\">2822</span>,\n",
              "    <span style=\"color: #008000; text-decoration-color: #008000\">\"OUT/MR_spine/test.impression.tok\"</span>: <span style=\"color: #008080; text-decoration-color: #008080; font-weight: bold\">2822</span>\n",
              "<span style=\"font-weight: bold\">}</span>\n",
              "</pre>\n"
            ]
          },
          "metadata": {}
        },
        {
          "output_type": "display_data",
          "data": {
            "text/plain": [
              "\u001b[1m{\u001b[0m\n",
              "    \u001b[32m\"OUT/CT_neck/impression.txt\"\u001b[0m: \u001b[1;36m1141\u001b[0m,\n",
              "    \u001b[32m\"OUT/CT_neck/test.findings.tok\"\u001b[0m: \u001b[1;36m1141\u001b[0m,\n",
              "    \u001b[32m\"OUT/CT_neck/findings.txt\"\u001b[0m: \u001b[1;36m1141\u001b[0m,\n",
              "    \u001b[32m\"OUT/CT_neck/test.impression.tok\"\u001b[0m: \u001b[1;36m1141\u001b[0m\n",
              "\u001b[1m}\u001b[0m\n"
            ],
            "text/html": [
              "<pre style=\"white-space:pre;overflow-x:auto;line-height:normal;font-family:Menlo,'DejaVu Sans Mono',consolas,'Courier New',monospace\"><span style=\"font-weight: bold\">{</span>\n",
              "    <span style=\"color: #008000; text-decoration-color: #008000\">\"OUT/CT_neck/impression.txt\"</span>: <span style=\"color: #008080; text-decoration-color: #008080; font-weight: bold\">1141</span>,\n",
              "    <span style=\"color: #008000; text-decoration-color: #008000\">\"OUT/CT_neck/test.findings.tok\"</span>: <span style=\"color: #008080; text-decoration-color: #008080; font-weight: bold\">1141</span>,\n",
              "    <span style=\"color: #008000; text-decoration-color: #008000\">\"OUT/CT_neck/findings.txt\"</span>: <span style=\"color: #008080; text-decoration-color: #008080; font-weight: bold\">1141</span>,\n",
              "    <span style=\"color: #008000; text-decoration-color: #008000\">\"OUT/CT_neck/test.impression.tok\"</span>: <span style=\"color: #008080; text-decoration-color: #008080; font-weight: bold\">1141</span>\n",
              "<span style=\"font-weight: bold\">}</span>\n",
              "</pre>\n"
            ]
          },
          "metadata": {}
        }
      ],
      "source": [
        "import random\n",
        "import glob\n",
        "import json\n",
        "import os\n",
        "import shutil\n",
        "\n",
        "random.seed(42)\n",
        "\n",
        "test_set = ['OUT/CT_sinus', 'OUT/MR_pelvis', 'OUT/MR_neck', 'OUT/MR_abdomen', 'OUT/MR_spine', 'OUT/CT_neck']\n",
        "for folder in ['OUT/CT_head', 'OUT/CT_spine', 'OUT/CT_chest', 'OUT/CT_abdomen-pelvis', 'OUT/MR_head']:\n",
        "    reports = open(folder + \"/findings.txt\").readlines()\n",
        "    impression = open(folder + \"/impression.txt\").readlines()\n",
        "    reports = [r.strip() for r in reports]\n",
        "    impression = [r.strip() for r in impression]\n",
        "\n",
        "    temp = list(zip(reports, impression))\n",
        "    random.shuffle(temp)\n",
        "    res1, res2 = zip(*temp)\n",
        "    reports, impression = list(res1), list(res2)\n",
        "\n",
        "    assert len(reports) == len(impression)\n",
        "\n",
        "    total = len(reports)\n",
        "    eighty = int(0.8 * total)\n",
        "    ten = int(0.1 * total)\n",
        "\n",
        "    open(folder + \"/train.findings.tok\", \"w\").write('\\n'.join(reports[:eighty]))\n",
        "    open(folder + \"/validate.findings.tok\", \"w\").write('\\n'.join(reports[eighty:(eighty + ten)]))\n",
        "    open(folder + \"/test.findings.tok\", \"w\").write('\\n'.join(reports[eighty + ten:]))\n",
        "\n",
        "    open(folder + \"/train.impression.tok\", \"w\").write('\\n'.join(impression[:eighty]))\n",
        "    open(folder + \"/validate.impression.tok\", \"w\").write('\\n'.join(impression[eighty:(eighty + ten)]))\n",
        "    open(folder + \"/test.impression.tok\", \"w\").write('\\n'.join(impression[eighty + ten:]))\n",
        "\n",
        "    names = {}\n",
        "    for fn in glob.glob(folder + \"/*\"):\n",
        "        with open(fn) as f:\n",
        "            names[fn] = sum(1 for line in f)\n",
        "    print(json.dumps(names, indent=4))\n",
        "\n",
        "for folder in test_set:\n",
        "    shutil.copy(folder + \"/findings.txt\", folder + \"/test.findings.tok\")\n",
        "    shutil.copy(folder + \"/impression.txt\", folder + \"/test.impression.tok\")\n",
        "    names = {}\n",
        "    for fn in glob.glob(folder + \"/*\"):\n",
        "        with open(fn) as f:\n",
        "            names[fn] = sum(1 for line in f)\n",
        "    print(json.dumps(names, indent=4))"
      ]
    },
    {
      "cell_type": "markdown",
      "source": [
        "# Checking splits are identifical"
      ],
      "metadata": {
        "id": "JouIaIUi2cT3"
      },
      "id": "JouIaIUi2cT3"
    },
    {
      "cell_type": "code",
      "source": [
        "import hashlib\n",
        "\n",
        "# Checking content\n",
        "d = {'OUT/CT_head_findings': '8ce0d19d97739dea632784d1b155df2d',\n",
        " 'OUT/CT_head_impression': '54b667813aad4046e52fc5ba584dbc65',\n",
        " 'OUT/CT_spine_findings': '3aa68005fc39e7f6b0eb60f1fa0877e0',\n",
        " 'OUT/CT_spine_impression': 'd7f10bb9ee7faa8cec584ed23569ba2d',\n",
        " 'OUT/CT_chest_findings': 'b6e3b34395dd3817b9734216758de822',\n",
        " 'OUT/CT_chest_impression': '80a5fabcfd8a337d47053f14dc4af9ee',\n",
        " 'OUT/CT_abdomen-pelvis_findings': '62342894cafdc1561fcc0fda01dddf51',\n",
        " 'OUT/CT_abdomen-pelvis_impression': 'a63cfe547105b624b2fd91f0e12062da',\n",
        " 'OUT/MR_head_findings': '336a0928937b075ffb2bd47f362ff854',\n",
        " 'OUT/MR_head_impression': '8d1e6478bb108f7cd834964d52566c15'}\n",
        "\n",
        "for folder in ['OUT/CT_head', 'OUT/CT_spine', 'OUT/CT_chest', 'OUT/CT_abdomen-pelvis', 'OUT/MR_head']:\n",
        "    reports = open(folder + \"/findings.txt\", 'rb').read()\n",
        "    impression = open(folder + \"/impression.txt\", 'rb').read()\n",
        "    assert hashlib.md5(reports).hexdigest() == d[folder + \"_findings\"]\n",
        "    assert hashlib.md5(impression).hexdigest() == d[folder + \"_impression\"]\n",
        "\n",
        "\n",
        "print(\"all good.\")"
      ],
      "metadata": {
        "colab": {
          "base_uri": "https://localhost:8080/",
          "height": 0
        },
        "id": "vOSWpN7A0UX1",
        "outputId": "3073ae00-cf0b-4db7-fdb0-617adebf68b1"
      },
      "id": "vOSWpN7A0UX1",
      "execution_count": 13,
      "outputs": [
        {
          "output_type": "display_data",
          "data": {
            "text/plain": [
              "all good.\n"
            ],
            "text/html": [
              "<pre style=\"white-space:pre;overflow-x:auto;line-height:normal;font-family:Menlo,'DejaVu Sans Mono',consolas,'Courier New',monospace\">all good.\n",
              "</pre>\n"
            ]
          },
          "metadata": {}
        }
      ]
    },
    {
      "cell_type": "markdown",
      "source": [
        "# Downloading data"
      ],
      "metadata": {
        "id": "UqsOcdIr06a_"
      },
      "id": "UqsOcdIr06a_"
    },
    {
      "cell_type": "code",
      "source": [
        "!zip -r out.zip OUT\n"
      ],
      "metadata": {
        "colab": {
          "base_uri": "https://localhost:8080/"
        },
        "id": "dn2pgAYi04Fp",
        "outputId": "790fa5b3-18bb-4ce2-fc82-eff62ac535c7"
      },
      "id": "dn2pgAYi04Fp",
      "execution_count": 14,
      "outputs": [
        {
          "output_type": "stream",
          "name": "stdout",
          "text": [
            "updating: OUT/ (stored 0%)\n",
            "updating: OUT/CT_spine/ (stored 0%)\n",
            "updating: OUT/CT_spine/impression.txt (deflated 77%)\n",
            "updating: OUT/CT_spine/train.impression.tok (deflated 76%)\n",
            "updating: OUT/CT_spine/train.findings.tok (deflated 77%)\n",
            "updating: OUT/CT_spine/test.findings.tok (deflated 77%)\n",
            "updating: OUT/CT_spine/validate.findings.tok (deflated 77%)\n",
            "updating: OUT/CT_spine/findings.txt (deflated 78%)\n",
            "updating: OUT/CT_spine/validate.impression.tok (deflated 75%)\n",
            "updating: OUT/CT_spine/test.impression.tok (deflated 75%)\n",
            "updating: OUT/CT_sinus/ (stored 0%)\n",
            "updating: OUT/CT_sinus/impression.txt (deflated 77%)\n",
            "updating: OUT/CT_sinus/test.findings.tok (deflated 79%)\n",
            "updating: OUT/CT_sinus/findings.txt (deflated 79%)\n",
            "updating: OUT/CT_sinus/test.impression.tok (deflated 77%)\n",
            "updating: OUT/CT_neck/ (stored 0%)\n",
            "updating: OUT/CT_neck/impression.txt (deflated 74%)\n",
            "updating: OUT/CT_neck/test.findings.tok (deflated 76%)\n",
            "updating: OUT/CT_neck/findings.txt (deflated 76%)\n",
            "updating: OUT/CT_neck/test.impression.tok (deflated 74%)\n",
            "updating: OUT/MR_spine/ (stored 0%)\n",
            "updating: OUT/MR_spine/impression.txt (deflated 76%)\n",
            "updating: OUT/MR_spine/test.findings.tok (deflated 78%)\n",
            "updating: OUT/MR_spine/findings.txt (deflated 78%)\n",
            "updating: OUT/MR_spine/test.impression.tok (deflated 76%)\n",
            "updating: OUT/MR_neck/ (stored 0%)\n",
            "updating: OUT/MR_neck/impression.txt (deflated 72%)\n",
            "updating: OUT/MR_neck/test.findings.tok (deflated 75%)\n",
            "updating: OUT/MR_neck/findings.txt (deflated 75%)\n",
            "updating: OUT/MR_neck/test.impression.tok (deflated 72%)\n",
            "updating: OUT/MR_head/ (stored 0%)\n",
            "updating: OUT/MR_head/impression.txt (deflated 76%)\n",
            "updating: OUT/MR_head/train.impression.tok (deflated 75%)\n",
            "updating: OUT/MR_head/train.findings.tok (deflated 77%)\n",
            "updating: OUT/MR_head/test.findings.tok (deflated 77%)\n",
            "updating: OUT/MR_head/validate.findings.tok (deflated 77%)\n",
            "updating: OUT/MR_head/findings.txt (deflated 78%)\n",
            "updating: OUT/MR_head/validate.impression.tok (deflated 75%)\n",
            "updating: OUT/MR_head/test.impression.tok (deflated 75%)\n",
            "updating: OUT/MR_pelvis/ (stored 0%)\n",
            "updating: OUT/MR_pelvis/impression.txt (deflated 71%)\n",
            "updating: OUT/MR_pelvis/test.findings.tok (deflated 74%)\n",
            "updating: OUT/MR_pelvis/findings.txt (deflated 74%)\n",
            "updating: OUT/MR_pelvis/test.impression.tok (deflated 71%)\n",
            "updating: OUT/CT_head/ (stored 0%)\n",
            "updating: OUT/CT_head/impression.txt (deflated 78%)\n",
            "updating: OUT/CT_head/train.impression.tok (deflated 77%)\n",
            "updating: OUT/CT_head/train.findings.tok (deflated 79%)\n",
            "updating: OUT/CT_head/test.findings.tok (deflated 79%)\n",
            "updating: OUT/CT_head/validate.findings.tok (deflated 79%)\n",
            "updating: OUT/CT_head/findings.txt (deflated 81%)\n",
            "updating: OUT/CT_head/validate.impression.tok (deflated 77%)\n",
            "updating: OUT/CT_head/test.impression.tok (deflated 76%)\n",
            "updating: OUT/CT_abdomen-pelvis/ (stored 0%)\n",
            "updating: OUT/CT_abdomen-pelvis/impression.txt (deflated 74%)\n",
            "updating: OUT/CT_abdomen-pelvis/train.impression.tok (deflated 74%)\n",
            "updating: OUT/CT_abdomen-pelvis/train.findings.tok (deflated 76%)\n",
            "updating: OUT/CT_abdomen-pelvis/test.findings.tok (deflated 76%)\n",
            "updating: OUT/CT_abdomen-pelvis/validate.findings.tok (deflated 76%)\n",
            "updating: OUT/CT_abdomen-pelvis/findings.txt (deflated 77%)\n",
            "updating: OUT/CT_abdomen-pelvis/validate.impression.tok (deflated 73%)\n",
            "updating: OUT/CT_abdomen-pelvis/test.impression.tok (deflated 74%)\n",
            "updating: OUT/CT_chest/ (stored 0%)\n",
            "updating: OUT/CT_chest/impression.txt (deflated 74%)\n",
            "updating: OUT/CT_chest/train.impression.tok (deflated 74%)\n",
            "updating: OUT/CT_chest/train.findings.tok (deflated 77%)\n",
            "updating: OUT/CT_chest/test.findings.tok (deflated 76%)\n",
            "updating: OUT/CT_chest/validate.findings.tok (deflated 76%)\n",
            "updating: OUT/CT_chest/findings.txt (deflated 77%)\n",
            "updating: OUT/CT_chest/validate.impression.tok (deflated 73%)\n",
            "updating: OUT/CT_chest/test.impression.tok (deflated 74%)\n",
            "updating: OUT/MR_abdomen/ (stored 0%)\n",
            "updating: OUT/MR_abdomen/impression.txt (deflated 74%)\n",
            "updating: OUT/MR_abdomen/test.findings.tok (deflated 77%)\n",
            "updating: OUT/MR_abdomen/findings.txt (deflated 77%)\n",
            "updating: OUT/MR_abdomen/test.impression.tok (deflated 74%)\n"
          ]
        }
      ]
    },
    {
      "cell_type": "code",
      "source": [
        "from google.colab import files\n",
        "files.download('out.zip') "
      ],
      "metadata": {
        "colab": {
          "base_uri": "https://localhost:8080/",
          "height": 17
        },
        "id": "b_Hkdaf91Bt5",
        "outputId": "15ceb01d-1a88-45ac-d679-1bd0a6a83ebd"
      },
      "id": "b_Hkdaf91Bt5",
      "execution_count": 15,
      "outputs": [
        {
          "output_type": "display_data",
          "data": {
            "text/plain": [
              "<IPython.core.display.Javascript object>"
            ],
            "application/javascript": [
              "\n",
              "    async function download(id, filename, size) {\n",
              "      if (!google.colab.kernel.accessAllowed) {\n",
              "        return;\n",
              "      }\n",
              "      const div = document.createElement('div');\n",
              "      const label = document.createElement('label');\n",
              "      label.textContent = `Downloading \"${filename}\": `;\n",
              "      div.appendChild(label);\n",
              "      const progress = document.createElement('progress');\n",
              "      progress.max = size;\n",
              "      div.appendChild(progress);\n",
              "      document.body.appendChild(div);\n",
              "\n",
              "      const buffers = [];\n",
              "      let downloaded = 0;\n",
              "\n",
              "      const channel = await google.colab.kernel.comms.open(id);\n",
              "      // Send a message to notify the kernel that we're ready.\n",
              "      channel.send({})\n",
              "\n",
              "      for await (const message of channel.messages) {\n",
              "        // Send a message to notify the kernel that we're ready.\n",
              "        channel.send({})\n",
              "        if (message.buffers) {\n",
              "          for (const buffer of message.buffers) {\n",
              "            buffers.push(buffer);\n",
              "            downloaded += buffer.byteLength;\n",
              "            progress.value = downloaded;\n",
              "          }\n",
              "        }\n",
              "      }\n",
              "      const blob = new Blob(buffers, {type: 'application/binary'});\n",
              "      const a = document.createElement('a');\n",
              "      a.href = window.URL.createObjectURL(blob);\n",
              "      a.download = filename;\n",
              "      div.appendChild(a);\n",
              "      a.click();\n",
              "      div.remove();\n",
              "    }\n",
              "  "
            ]
          },
          "metadata": {}
        },
        {
          "output_type": "display_data",
          "data": {
            "text/plain": [
              "<IPython.core.display.Javascript object>"
            ],
            "application/javascript": [
              "download(\"download_6fa1770d-038e-402e-b62b-79590e684d2e\", \"out.zip\", 38969870)"
            ]
          },
          "metadata": {}
        }
      ]
    }
  ],
  "metadata": {
    "kernelspec": {
      "display_name": "Python 3",
      "language": "python",
      "name": "python3"
    },
    "language_info": {
      "codemirror_mode": {
        "name": "ipython",
        "version": 3
      },
      "file_extension": ".py",
      "mimetype": "text/x-python",
      "name": "python",
      "nbconvert_exporter": "python",
      "pygments_lexer": "ipython3",
      "version": "3.8.6"
    },
    "colab": {
      "name": "preprocess_mimic_iii (1).ipynb",
      "provenance": [],
      "collapsed_sections": [
        "mPlaTMLqtVZ5"
      ]
    }
  },
  "nbformat": 4,
  "nbformat_minor": 5
}