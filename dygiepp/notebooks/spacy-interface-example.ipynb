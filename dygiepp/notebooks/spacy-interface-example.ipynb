{
 "cells": [
  {
   "cell_type": "code",
   "execution_count": 1,
   "metadata": {},
   "outputs": [],
   "source": [
    "%load_ext autoreload\n",
    "%autoreload 2"
   ]
  },
  {
   "cell_type": "code",
   "execution_count": 2,
   "metadata": {},
   "outputs": [],
   "source": [
    "import spacy\n",
    "from dygie.spacy_interface.spacy_interface import DygieppPipe\n",
    "nlp = spacy.load('en_core_web_sm')\n",
    "text = \"\"\"Title: VocGAN: A High-Fidelity Real-time Vocoder with a Hierarchically-nested Adversarial Network\n",
    "            Section: Abstract\n",
    "            We present a novel high-fidelity real-time neural vocoder called VocGAN. \n",
    "            A recently developed GAN-based vocoder, MelGAN, produces speech waveforms in real-time. \n",
    "            However, it often produces a waveform that is insufficient in quality or inconsistent \n",
    "            with acoustic characteristics of the input mel spectrogram. \n",
    "            VocGAN is nearly as fast as MelGAN, but it significantly improves the quality and consistency of the output waveform. \n",
    "            VocGAN applies a multi-scale waveform generator and a hierarchically-nested discriminator to learn multiple levels of acoustic properties in a balanced way. \n",
    "            It also applies the joint conditional and unconditional objective, which has shown successful results in high-resolution image synthesis. \n",
    "            In experiments, VocGAN synthesizes speech waveforms 416.7x faster on a GTX 1080Ti GPU and 3.24x faster on a CPU than realtime. \n",
    "            Compared with MelGAN, it also exhibits significantly improved quality in multiple evaluation metrics including mean opinion score (MOS) with minimal additional overhead. \n",
    "            Additionally, compared with Parallel WaveGAN, another recently developed high-fidelity vocoder, VocGAN is 6.98x faster on a CPU and exhibits higher MOS.\"\"\"\n",
    "text = ' '.join(text.replace('\\n',' ').split())"
   ]
  },
  {
   "cell_type": "code",
   "execution_count": 3,
   "metadata": {},
   "outputs": [
    {
     "name": "stderr",
     "output_type": "stream",
     "text": [
      "Did not use initialization regex that was passed: .*weight_matrix\n",
      "Did not use initialization regex that was passed: .*weight_matrix\n",
      "Did not use initialization regex that was passed: .*weight_matrix\n",
      "Did not use initialization regex that was passed: .*weight_matrix\n"
     ]
    }
   ],
   "source": [
    "# add dygiepp to the pipe\n",
    "component = DygieppPipe(nlp,pretrained_filepath=\"../pretrained/scierc-lightweight.tar.gz\", dataset_name=\"scierc\")\n",
    "nlp.add_pipe(component)\n",
    "doc = nlp(text)"
   ]
  },
  {
   "cell_type": "code",
   "execution_count": 4,
   "metadata": {},
   "outputs": [
    {
     "name": "stdout",
     "output_type": "stream",
     "text": [
      "VocGAN Method\n",
      "-Fidelity Real-time Vocoder Method\n",
      "Hierarchically-nested Adversarial Network Method\n",
      "fidelity real-time neural vocoder Method\n",
      "VocGAN Method\n",
      "GAN-based vocoder Method\n",
      "MelGAN Method\n",
      "speech waveforms Material\n",
      "it Generic\n",
      "acoustic characteristics OtherScientificTerm\n",
      "mel spectrogram Material\n",
      "VocGAN Method\n",
      "MelGAN Method\n",
      "it Generic\n",
      "VocGAN Method\n",
      "multi-scale waveform generator Method\n",
      "hierarchically-nested discriminator Method\n",
      "It Generic\n",
      "joint conditional and unconditional objective OtherScientificTerm\n",
      "high-resolution image synthesis Task\n",
      "VocGAN Method\n",
      "speech waveforms Material\n",
      "GTX 1080Ti GPU Method\n",
      "CPU OtherScientificTerm\n",
      "realtime OtherScientificTerm\n",
      "MelGAN Generic\n",
      "it Generic\n",
      "quality Metric\n",
      "evaluation metrics Metric\n",
      "mean opinion score (MOS Metric\n",
      "Parallel WaveGAN Method\n",
      "high-fidelity vocoder Method\n",
      "VocGAN Method\n",
      "CPU OtherScientificTerm\n",
      "MOS Metric\n"
     ]
    }
   ],
   "source": [
    "# pring all native spacy entities\n",
    "for ent in doc.ents:\n",
    "    print(ent, ent.label_)"
   ]
  },
  {
   "cell_type": "code",
   "execution_count": 5,
   "metadata": {},
   "outputs": [
    {
     "name": "stdout",
     "output_type": "stream",
     "text": [
      "VocGAN Method\n",
      "-Fidelity Real-time Vocoder Method\n",
      "Hierarchically-nested Adversarial Network Method\n",
      "-nested Adversarial Network Method\n",
      "fidelity real-time neural vocoder Method\n",
      "VocGAN Method\n",
      "GAN-based vocoder Method\n",
      "-based vocoder Method\n",
      "based vocoder Method\n",
      "MelGAN Method\n",
      "speech waveforms Material\n",
      "it Generic\n",
      "acoustic characteristics OtherScientificTerm\n",
      "mel spectrogram Material\n",
      "VocGAN Method\n",
      "MelGAN Method\n",
      "it Generic\n",
      "VocGAN Method\n",
      "multi-scale waveform generator Method\n",
      "-scale waveform generator Method\n",
      "scale waveform generator Method\n",
      "hierarchically-nested discriminator Method\n",
      "-nested discriminator Method\n",
      "It Generic\n",
      "joint conditional and unconditional objective OtherScientificTerm\n",
      "high-resolution image synthesis Task\n",
      "-resolution image synthesis Task\n",
      "resolution image synthesis Task\n",
      "VocGAN Method\n",
      "speech waveforms Material\n",
      "GTX 1080Ti GPU Method\n",
      "CPU OtherScientificTerm\n",
      "realtime OtherScientificTerm\n",
      "MelGAN Generic\n",
      "it Generic\n",
      "quality Metric\n",
      "evaluation metrics Metric\n",
      "mean opinion score (MOS Metric\n",
      "MOS Metric\n",
      "Parallel WaveGAN Method\n",
      "high-fidelity vocoder Method\n",
      "-fidelity vocoder Method\n",
      "VocGAN Method\n",
      "CPU OtherScientificTerm\n",
      "MOS Metric\n"
     ]
    }
   ],
   "source": [
    "# pring all span entities entities\n",
    "for sent in doc._.span_ents:\n",
    "    for ent in sent:\n",
    "        print(ent, ent._.label_)"
   ]
  },
  {
   "cell_type": "code",
   "execution_count": 6,
   "metadata": {},
   "outputs": [
    {
     "name": "stdout",
     "output_type": "stream",
     "text": [
      "(VocGAN, -Fidelity Real-time Vocoder, 'HYPONYM-OF')\n",
      "(VocGAN, high-fidelity real-time neural vocoder, 'HYPONYM-OF')\n",
      "(VocGAN, -fidelity real-time neural vocoder, 'HYPONYM-OF')\n",
      "(VocGAN, fidelity real-time neural vocoder, 'HYPONYM-OF')\n",
      "(VocGAN, MelGAN, 'COMPARE')\n",
      "(multi-scale waveform generator, VocGAN, 'USED-FOR')\n",
      "(multi-scale waveform generator, hierarchically-nested discriminator, 'CONJUNCTION')\n",
      "(multi-scale waveform generator, -nested discriminator, 'CONJUNCTION')\n",
      "(-scale waveform generator, VocGAN, 'USED-FOR')\n",
      "(-scale waveform generator, hierarchically-nested discriminator, 'CONJUNCTION')\n",
      "(-scale waveform generator, -nested discriminator, 'CONJUNCTION')\n",
      "(scale waveform generator, VocGAN, 'USED-FOR')\n",
      "(scale waveform generator, hierarchically-nested discriminator, 'CONJUNCTION')\n",
      "(scale waveform generator, -nested discriminator, 'CONJUNCTION')\n",
      "(hierarchically-nested discriminator, VocGAN, 'USED-FOR')\n",
      "(-nested discriminator, VocGAN, 'USED-FOR')\n",
      "(joint conditional and unconditional objective, It, 'USED-FOR')\n",
      "(joint conditional and unconditional objective, high-resolution image synthesis, 'USED-FOR')\n",
      "(joint conditional and unconditional objective, -resolution image synthesis, 'USED-FOR')\n",
      "(VocGAN, speech waveforms, 'USED-FOR')\n",
      "(VocGAN, realtime, 'COMPARE')\n",
      "(GTX 1080Ti GPU, VocGAN, 'EVALUATE-FOR')\n",
      "(CPU, realtime, 'COMPARE')\n",
      "(quality, MelGAN, 'EVALUATE-FOR')\n",
      "(quality, it, 'EVALUATE-FOR')\n",
      "(evaluation metrics, MelGAN, 'EVALUATE-FOR')\n",
      "(evaluation metrics, it, 'EVALUATE-FOR')\n",
      "(Parallel WaveGAN, high-fidelity vocoder, 'HYPONYM-OF')\n",
      "(Parallel WaveGAN, -fidelity vocoder, 'HYPONYM-OF')\n",
      "(CPU, Parallel WaveGAN, 'EVALUATE-FOR')\n",
      "(CPU, VocGAN, 'EVALUATE-FOR')\n",
      "(MOS, VocGAN, 'EVALUATE-FOR')\n"
     ]
    }
   ],
   "source": [
    "# print all relations\n",
    "for sent_rel in doc._.rels:\n",
    "    for rel in sent_rel:\n",
    "        print(rel)"
   ]
  }
 ],
 "metadata": {
  "kernelspec": {
   "display_name": "Python 3 (ipykernel)",
   "language": "python",
   "name": "python3"
  },
  "language_info": {
   "codemirror_mode": {
    "name": "ipython",
    "version": 3
   },
   "file_extension": ".py",
   "mimetype": "text/x-python",
   "name": "python",
   "nbconvert_exporter": "python",
   "pygments_lexer": "ipython3",
   "version": "3.8.12"
  }
 },
 "nbformat": 4,
 "nbformat_minor": 4
}
