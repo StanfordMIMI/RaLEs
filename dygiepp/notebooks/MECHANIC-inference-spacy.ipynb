{
 "cells": [
  {
   "cell_type": "code",
   "execution_count": null,
   "metadata": {},
   "outputs": [],
   "source": [
    "%load_ext autoreload\n",
    "%autoreload 2"
   ]
  },
  {
   "cell_type": "code",
   "execution_count": null,
   "metadata": {},
   "outputs": [],
   "source": [
    "import spacy\n",
    "from dygie.spacy_interface.spacy_interface import DygieppPipe\n",
    "nlp_granular = spacy.load('en_core_web_sm')\n",
    "nlp_coarse = spacy.load('en_core_web_sm')\n",
    "component_granular = DygieppPipe(nlp_granular,pretrained_filepath=\"../pretrained/mechanic-granular.tar.gz\", dataset_name=\"covid-event\")\n",
    "component_coarse = DygieppPipe(nlp_coarse,pretrained_filepath=\"../pretrained/mechanic-coarse.tar.gz\", dataset_name=\"None\")\n",
    "\n",
    "nlp_granular.add_pipe(component_granular)\n",
    "nlp_coarse.add_pipe(component_coarse)"
   ]
  },
  {
   "cell_type": "code",
   "execution_count": null,
   "metadata": {},
   "outputs": [],
   "source": [
    "examples = []\n",
    "text = \"\"\"\n",
    "Our reversible heterodimeric assemblies open the door to many exciting new synthetic biology and nanomaterial applications. Bivalent connectors can be used to induce interaction between otherwise monomeric proteins to modulate biological function, and symmetric hubs can present multiple copies of ligands or antigens to cluster cell-surface receptors. Bio-orthogonal signaling systems can be constructed by using the heterodimer components in synthetic receptors and ligands. Reconfigurable higher-order nanomaterials—one-dimensional (1D) fibers, 2D lattices, and 3D nanocages and crystals—can be created using our designed components to drive geometrically precise association between the material components.\n",
    "\"\"\"\n",
    "examples.append(text)\n",
    "text = \"\"\"\n",
    "Functionalized TiO2 surfaces facilitate selective receptor-recognition and modulate biological function of bone norphogenetic protein-2.\n",
    "Titanium dioxide (TiO2) is a promising biomedical material because it can be modified with various functional groups. However, the mechanism of the interaction between functionalized TiO2 and biomolecules, especially how the modified TiO2 regulates subsequent protein functions, still needs further investigation. In this study, we studied the interaction of bone morphogenetic protein-2 (BMP-2) with hydroxyl- and phosphite-grafted TiO2 surfaces. A set of force field parameters was developed for hydroxyl and phosphite groups on TiO2 surfaces, and the adsorption energy between the surface of the functionalized TiO2 and BMP-2 was calculated. Different coverages of functional groups were applied to the surface to investigate the influence of the functional group density. Grafting phosphite groups on the surface of TiO2 can significantly increase the adsorption energy of the protein and change the orientation of BMP-2 so that the wrist epitope of the BMP-2 molecules is pointing upward. This configuration specifically binds to the BMP receptor type-I on the cell membrane and activates the SMAD1/5/8 signaling pathway for the purpose of enhancing the expression of bone growth and regeneration-related protein. This study shows that it is possible to regulate the function of a protein by deliberately modifying the material surface, which can guide the design of new materials through function-oriented surface modification.\n",
    "\"\"\"\n",
    "examples.append(text)\n",
    "text =\"\"\"Title: VocGAN: A High-Fidelity Real-time Vocoder with a Hierarchically-nested Adversarial Network\n",
    "            Section: Abstract\n",
    "            We present a novel high-fidelity real-time neural vocoder called VocGAN. \n",
    "            A recently developed GAN-based vocoder, MelGAN, produces speech waveforms in real-time. \n",
    "            However, it often produces a waveform that is insufficient in quality or inconsistent \n",
    "            with acoustic characteristics of the input mel spectrogram. \n",
    "            VocGAN is nearly as fast as MelGAN, but it significantly improves the quality and consistency of the output waveform. \n",
    "            VocGAN applies a multi-scale waveform generator and a hierarchically-nested discriminator to learn multiple levels of acoustic properties in a balanced way. \n",
    "            It also applies the joint conditional and unconditional objective, which has shown successful results in high-resolution image synthesis. \n",
    "            In experiments, VocGAN synthesizes speech waveforms 416.7x faster on a GTX 1080Ti GPU and 3.24x faster on a CPU than realtime. \n",
    "            Compared with MelGAN, it also exhibits significantly improved quality in multiple evaluation metrics including mean opinion score (MOS) with minimal additional overhead. \n",
    "            Additionally, compared with Parallel WaveGAN, another recently developed high-fidelity vocoder, VocGAN is 6.98x faster on a CPU and exhibits higher MOS.\n",
    "            \"\"\"\n",
    "\n",
    "examples.append(text)\n",
    "examples = [' '.join(example.replace('\\n',' ').split()) for example in examples]\n"
   ]
  },
  {
   "cell_type": "code",
   "execution_count": null,
   "metadata": {},
   "outputs": [],
   "source": [
    "for doc in nlp_granular.pipe(examples):\n",
    "    print(doc)\n",
    "    print(\"--------\")\n",
    "    print(\"Relations:\")\n",
    "    for sent_rel in doc._.rels:\n",
    "        for rel in sent_rel:\n",
    "            print(rel)"
   ]
  },
  {
   "cell_type": "code",
   "execution_count": null,
   "metadata": {},
   "outputs": [],
   "source": [
    "for doc in nlp_coarse.pipe(examples):\n",
    "    print(doc)\n",
    "    print(\"--------\")\n",
    "    print(\"Relations:\")\n",
    "    for sent_rel in doc._.rels:\n",
    "        for rel in sent_rel:\n",
    "            print(rel)"
   ]
  },
  {
   "cell_type": "code",
   "execution_count": null,
   "metadata": {},
   "outputs": [],
   "source": [
    "text"
   ]
  },
  {
   "cell_type": "code",
   "execution_count": null,
   "metadata": {},
   "outputs": [],
   "source": [
    "# pring all native spacy entities\n",
    "for ent in doc.ents:\n",
    "    print(ent, ent.label_)"
   ]
  },
  {
   "cell_type": "code",
   "execution_count": null,
   "metadata": {},
   "outputs": [],
   "source": [
    "# pring all span entities entities\n",
    "for sent in doc._.span_ents:\n",
    "    for ent in sent:\n",
    "        print(ent, ent._.label_)"
   ]
  }
 ],
 "metadata": {
  "kernelspec": {
   "display_name": "Python 3 (ipykernel)",
   "language": "python",
   "name": "python3"
  },
  "language_info": {
   "codemirror_mode": {
    "name": "ipython",
    "version": 3
   },
   "file_extension": ".py",
   "mimetype": "text/x-python",
   "name": "python",
   "nbconvert_exporter": "python",
   "pygments_lexer": "ipython3",
   "version": "3.7.11"
  }
 },
 "nbformat": 4,
 "nbformat_minor": 4
}
